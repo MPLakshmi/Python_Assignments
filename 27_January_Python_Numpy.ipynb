{
 "cells": [
  {
   "cell_type": "code",
   "execution_count": null,
   "metadata": {},
   "outputs": [],
   "source": [
    "'''1.What is a Python library? Why we use Python libraries?'''\n",
    "'''Python library is a collection of codes or module of codes that uses to do specific operations in python program. Python libraries are used\n",
    "because we no need to rewrite the code again  and we will make use of the code which is already available.'''"
   ]
  },
  {
   "cell_type": "code",
   "execution_count": null,
   "metadata": {},
   "outputs": [],
   "source": [
    "'''2.What is the difference between Numpy array and List'''\n",
    "'''Numpy arrays are homogeneous and will allow only data with a data type. List is hetrogeneous and will allow data with different data types.\n",
    " Arrays will take less time to access than list.Arrays will give fast computation in numpy.'''"
   ]
  },
  {
   "cell_type": "code",
   "execution_count": 7,
   "metadata": {},
   "outputs": [
    {
     "name": "stdout",
     "output_type": "stream",
     "text": [
      "shape of array (3, 4)\n",
      "size of array 12\n",
      "Dimension of array 2\n"
     ]
    }
   ],
   "source": [
    "'''3. Find the shape, size and dimension of the following array?\n",
    "\n",
    "[[1, 2, 3, 4]\n",
    "\n",
    "[5, 6, 7, 8],\n",
    "\n",
    "[9, 10, 11, 12]]'''\n",
    "\n",
    "import numpy as np\n",
    "n = np.array([[1, 2, 3, 4],[5, 6, 7, 8],[9, 10, 11, 12]])\n",
    "print(\"shape of array\", n.shape)\n",
    "print(\"size of array\", n.size)\n",
    "print(\"Dimension of array\", n.ndim)"
   ]
  },
  {
   "cell_type": "code",
   "execution_count": 8,
   "metadata": {},
   "outputs": [
    {
     "name": "stdout",
     "output_type": "stream",
     "text": [
      "First row of array [1 2 3 4]\n"
     ]
    }
   ],
   "source": [
    "'''4. Write python code to access the first row of the following array?\n",
    "\n",
    "[[1, 2, 3, 4]\n",
    "\n",
    "[5, 6, 7, 8],\n",
    "\n",
    "[9, 10, 11, 12]]'''\n",
    "import numpy as np\n",
    "arr3 = np.array([[1, 2, 3, 4],[5, 6, 7, 8],[9, 10, 11, 12]])\n",
    "print(\"First row of array\",arr3[0])\n"
   ]
  },
  {
   "cell_type": "code",
   "execution_count": 10,
   "metadata": {},
   "outputs": [
    {
     "name": "stdout",
     "output_type": "stream",
     "text": [
      "Array element is 12\n"
     ]
    }
   ],
   "source": [
    "'''5. How to you access the element at the third row and fourth column from the given numpy array?\n",
    "\n",
    "[[1, 2, 3, 4]\n",
    "\n",
    "[5, 6, 7, 8],\n",
    "\n",
    "[9, 10, 11, 12]]'''\n",
    "\n",
    "import numpy as np\n",
    "arr4 = np.array([[1, 2, 3, 4],[5, 6, 7, 8],[9, 10, 11, 12]])\n",
    "print(\"Array element is\", arr4[2][3])"
   ]
  },
  {
   "cell_type": "code",
   "execution_count": 12,
   "metadata": {},
   "outputs": [
    {
     "name": "stdout",
     "output_type": "stream",
     "text": [
      "Array elements with odd index is [ 1  3  5  7  9 11]\n"
     ]
    }
   ],
   "source": [
    "'''6. Write code to extract all odd indexed elements from the given numpy array?\n",
    "\n",
    "[[1, 2, 3, 4]\n",
    "\n",
    "[5, 6, 7, 8],\n",
    "\n",
    "[9, 10, 11, 12]]'''\n",
    "\n",
    "import numpy as np\n",
    "arr5 = np.array([[1, 2, 3, 4],[5, 6, 7, 8],[9, 10, 11, 12]])\n",
    "print(\"Array elements with odd index is\", arr5[arr5%2!=0])"
   ]
  },
  {
   "cell_type": "code",
   "execution_count": 15,
   "metadata": {},
   "outputs": [
    {
     "name": "stdout",
     "output_type": "stream",
     "text": [
      "[[0.08279419 0.86056407 0.00165528]\n",
      " [0.78771911 0.19710087 0.32890566]\n",
      " [0.28179648 0.29088213 0.90253274]]\n"
     ]
    }
   ],
   "source": [
    "'''7. How can you generate a random 3x3 matrix with values between 0 and 1?'''\n",
    "import numpy as np\n",
    "result = np.random.rand(3,3)\n",
    "print(result)"
   ]
  },
  {
   "cell_type": "code",
   "execution_count": null,
   "metadata": {},
   "outputs": [],
   "source": [
    "'''8. Describe the difference between np.random.rand and np.random.randn?'''\n",
    "\n",
    "'''np.random function will generate values between 0 and 1. Rand will return the numbers from uniform disrtribution in interval of (0,1). Randn will return the \n",
    "numbers from normal distribution with mean of 0 and varaince of 1. '''"
   ]
  },
  {
   "cell_type": "code",
   "execution_count": 21,
   "metadata": {},
   "outputs": [
    {
     "name": "stdout",
     "output_type": "stream",
     "text": [
      "[[ 1  2  3  4]\n",
      " [ 5  6  7  8]\n",
      " [ 9 10 11 12]]\n",
      "After increasing the dimension of array [[[ 1  2  3  4]\n",
      "  [ 5  6  7  8]\n",
      "  [ 9 10 11 12]]]\n"
     ]
    }
   ],
   "source": [
    "'''\n",
    "9. Write code to increase the dimension of the following array?\n",
    "\n",
    "[[1, 2, 3, 4]\n",
    "\n",
    "[5, 6, 7, 8],\n",
    "\n",
    "[9, 10, 11, 12]]'''\n",
    "\n",
    "import numpy as np\n",
    "arr7 = np.array([[1, 2, 3, 4],[5, 6, 7, 8],[9, 10, 11, 12]])\n",
    "arr8 = np.expand_dims(arr7, axis = 0)\n",
    "print(\"After increasing the dimension of array\", arr8)"
   ]
  },
  {
   "cell_type": "code",
   "execution_count": 26,
   "metadata": {},
   "outputs": [
    {
     "name": "stdout",
     "output_type": "stream",
     "text": [
      "Transpose of matrix  [[ 1  5  9]\n",
      " [ 2  6 10]\n",
      " [ 3  7 11]\n",
      " [ 4  8 12]]\n"
     ]
    }
   ],
   "source": [
    "'''10. How to transpose the following array in NumPy?\n",
    "\n",
    "[[1, 2, 3, 4]\n",
    "\n",
    "[5, 6, 7, 8],\n",
    "\n",
    "[9, 10, 11, 12]]'''\n",
    "import numpy as np\n",
    "arr9 = np.array([[1, 2, 3, 4],[5, 6, 7, 8],[9, 10, 11, 12]])\n",
    "print(\"Transpose of matrix \", arr9.T)"
   ]
  },
  {
   "cell_type": "code",
   "execution_count": 38,
   "metadata": {},
   "outputs": [
    {
     "name": "stdout",
     "output_type": "stream",
     "text": [
      "[[  1   4   9  16]\n",
      " [ 25  36  49  64]\n",
      " [ 81 100 121 144]]\n",
      "[[ 42  52  62  72]\n",
      " [106 132 158 184]\n",
      " [170 212 254 296]]\n",
      "[[ 2  4  6  8]\n",
      " [10 12 14 16]\n",
      " [18 20 22 24]]\n",
      "[[0 0 0 0]\n",
      " [0 0 0 0]\n",
      " [0 0 0 0]]\n",
      "[[1. 1. 1. 1.]\n",
      " [1. 1. 1. 1.]\n",
      " [1. 1. 1. 1.]]\n"
     ]
    }
   ],
   "source": [
    "'''11. Consi^er the following matrix:\n",
    "\n",
    "Matrix A2 [[1, 2, 3, 4] [5, 6, 7, 8],[9, 10, 11, 12]]\n",
    "\n",
    "Matrix B2 [[1, 2, 3, 4] [5, 6, 7, 8],[9, 10, 11, 12]]'''\n",
    "\n",
    "import numpy as np\n",
    "\n",
    "A2 = np.array([[1, 2, 3, 4],[5, 6, 7, 8],[9, 10, 11, 12]])\n",
    "B2 = np.array([[1, 2, 3, 4],[5, 6, 7, 8],[9, 10, 11, 12]])\n",
    "'''Perform the following operation using Python\n",
    "1. Index wise multiplication'''\n",
    "print(A2 * B2)\n",
    "'''2. Matrix multiplication'''\n",
    "A3 = np.array([[1, 2, 3, 4],[5, 6, 7, 8],[9, 10, 11, 12]])\n",
    "B4 = np.array([[1, 2, 3, 4],[5, 6, 7, 8],[9, 10, 11, 12], [1,2,3,4]])\n",
    "print(np.dot(A3,B4))\n",
    "'''3. Add both the matrics'''\n",
    "print(A2 + B2)\n",
    "'''4. Subtract matrix B from A'''\n",
    "print(B2 - A2)\n",
    "'''5.Divide Matrix B by A'''\n",
    "print(B2/A2)"
   ]
  },
  {
   "cell_type": "code",
   "execution_count": 42,
   "metadata": {},
   "outputs": [
    {
     "name": "stdout",
     "output_type": "stream",
     "text": [
      "[  256     1 25600]\n"
     ]
    }
   ],
   "source": [
    "'''12.Which function in Numpy can be used to swap the byte order of an array?'''\n",
    "import numpy as np\n",
    "arr1 = np.array([1,256,100],dtype='int16')\n",
    "print(arr1.byteswap(True))"
   ]
  },
  {
   "cell_type": "code",
   "execution_count": 44,
   "metadata": {},
   "outputs": [
    {
     "name": "stdout",
     "output_type": "stream",
     "text": [
      "[[-1.5   0.5 ]\n",
      " [ 1.25 -0.25]]\n"
     ]
    }
   ],
   "source": [
    "'''13.  What is the significance of the np.linalg.inv function?'''\n",
    "\n",
    "import numpy as np\n",
    "\n",
    "A2 = np.array([[1, 2],[5, 6]])\n",
    "print(np.linalg.inv(A2))"
   ]
  },
  {
   "cell_type": "code",
   "execution_count": 50,
   "metadata": {},
   "outputs": [
    {
     "name": "stdout",
     "output_type": "stream",
     "text": [
      "[[ 1  2  5]\n",
      " [ 6  9 10]]\n"
     ]
    }
   ],
   "source": [
    "'''14.What does the np.reshape function do, and how is it used?'''\n",
    "\n",
    "'''numpy reshape function will actually rearrange the elements in the given order'''\n",
    "\n",
    "A5 = np.array([[1, 2],[5, 6],[9, 10]])\n",
    "\n",
    "print(A5.reshape(2,3))"
   ]
  },
  {
   "cell_type": "code",
   "execution_count": 53,
   "metadata": {},
   "outputs": [
    {
     "name": "stdout",
     "output_type": "stream",
     "text": [
      "[5 6 7 8]\n"
     ]
    }
   ],
   "source": [
    "'''15. What is broadcasting in Numpy?'''\n",
    "\n",
    "'''Broadcasting will happen with a scalar value.It will happen whem any kind og matrix airthmetic operations are happening between two arrays \n",
    "with different dimensions.'''\n",
    "\n",
    "import numpy as np\n",
    "\n",
    "A = np.array([1,2,3,4])\n",
    "\n",
    "B = 4\n",
    "\n",
    "print(A+B)"
   ]
  }
 ],
 "metadata": {
  "kernelspec": {
   "display_name": "Python 3",
   "language": "python",
   "name": "python3"
  },
  "language_info": {
   "codemirror_mode": {
    "name": "ipython",
    "version": 3
   },
   "file_extension": ".py",
   "mimetype": "text/x-python",
   "name": "python",
   "nbconvert_exporter": "python",
   "pygments_lexer": "ipython3",
   "version": "3.11.4"
  }
 },
 "nbformat": 4,
 "nbformat_minor": 2
}
