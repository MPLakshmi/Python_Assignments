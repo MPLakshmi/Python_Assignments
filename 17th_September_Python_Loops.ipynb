{
 "cells": [
  {
   "cell_type": "code",
   "execution_count": 2,
   "id": "fa731a00",
   "metadata": {},
   "outputs": [
    {
     "name": "stdout",
     "output_type": "stream",
     "text": [
      "1\n",
      "2\n",
      "3\n",
      "4\n",
      "5\n",
      "6\n",
      "7\n",
      "8\n",
      "9\n",
      "10\n"
     ]
    }
   ],
   "source": [
    "'''Write a Python program to print numbers from 1 to 10 using a for loop.'''\n",
    "for item in range(1,11):\n",
    "    print(item)"
   ]
  },
  {
   "cell_type": "code",
   "execution_count": 4,
   "id": "f60d5cc9",
   "metadata": {},
   "outputs": [
    {
     "name": "stdout",
     "output_type": "stream",
     "text": [
      "1\n",
      "2\n",
      "3\n",
      "4\n",
      "5\n",
      "Difference between loops\n",
      "0\n",
      "1\n",
      "2\n",
      "3\n",
      "4\n",
      "5\n"
     ]
    }
   ],
   "source": [
    "'''Explain the difference between a for loop and a while loop in Python.'''\n",
    "\n",
    "'''For loop'''\n",
    "for item in range(1,6):\n",
    "    print(item)\n",
    "print(\"Difference between loops\")\n",
    "'''While loop'''\n",
    "i = 0 \n",
    "while i<6:\n",
    "    print(i)\n",
    "    i+=1\n",
    "    "
   ]
  },
  {
   "cell_type": "code",
   "execution_count": 5,
   "id": "580850ab",
   "metadata": {},
   "outputs": [
    {
     "name": "stdout",
     "output_type": "stream",
     "text": [
      "Sum of numbers from 1 1o 100 4950\n"
     ]
    }
   ],
   "source": [
    "'''Write a Python program to calculate the sum of all numbers from 1 to 100 using a for loop.'''\n",
    "count = 0\n",
    "for item in range(1,100):\n",
    "    count += item\n",
    "print(\"Sum of numbers from 1 1o 100\", count)"
   ]
  },
  {
   "cell_type": "code",
   "execution_count": 6,
   "id": "254032b5",
   "metadata": {},
   "outputs": [
    {
     "name": "stdout",
     "output_type": "stream",
     "text": [
      "1\n",
      "2\n",
      "3\n",
      "4\n",
      "5\n"
     ]
    }
   ],
   "source": [
    "'''How do you iterate through a list using a for loop in Python?'''\n",
    "new_list = [1,2,3,4,5]\n",
    "for item in new_list:\n",
    "    print(item)"
   ]
  },
  {
   "cell_type": "code",
   "execution_count": 7,
   "id": "7d3712ee",
   "metadata": {},
   "outputs": [
    {
     "name": "stdout",
     "output_type": "stream",
     "text": [
      "120\n"
     ]
    }
   ],
   "source": [
    "'''Write a Python program to find the product of all elements in a list using a for loop.'''\n",
    "new_list = [1,2,3,4,5]\n",
    "res = 1\n",
    "for item in new_list:\n",
    "    res *= item \n",
    "print(res)"
   ]
  },
  {
   "cell_type": "code",
   "execution_count": 8,
   "id": "fafb6a22",
   "metadata": {},
   "outputs": [
    {
     "name": "stdout",
     "output_type": "stream",
     "text": [
      "[2, 4, 6, 8, 10, 12, 14, 16, 18, 20]\n"
     ]
    }
   ],
   "source": [
    "'''Create a Python program that prints all even numbers from 1 to 20 using a for loop.\n",
    "'''\n",
    "even_list  = []\n",
    "for item in range(1,21):\n",
    "    if item % 2 == 0:\n",
    "        even_list.append(item)\n",
    "print(even_list)"
   ]
  },
  {
   "cell_type": "code",
   "execution_count": 9,
   "id": "000d670b",
   "metadata": {},
   "outputs": [
    {
     "name": "stdout",
     "output_type": "stream",
     "text": [
      "Please enter number5\n",
      "120\n"
     ]
    }
   ],
   "source": [
    "'''Write a Python program that calculates the factorial of a number using a for loop.'''\n",
    "number  =  int(input(\"Please enter number\"))\n",
    "res = 1\n",
    "for i in range(1,number+1):\n",
    "    res = res*i\n",
    "print(res)"
   ]
  },
  {
   "cell_type": "code",
   "execution_count": 1,
   "id": "bfb23bf9",
   "metadata": {},
   "outputs": [
    {
     "name": "stdout",
     "output_type": "stream",
     "text": [
      "Number of vowels 5\n"
     ]
    }
   ],
   "source": [
    "'''Write a Python program to count the number of vowels in a given string using a for loop.\n",
    "'''\n",
    "str1 = \"apple new use\"\n",
    "count = 0\n",
    "for item in str1:\n",
    "    if item in [\"a\", \"e\", \"i\", \"o\", \"u\"]:\n",
    "        count += 1\n",
    "\n",
    "print(\"Number of vowels\", count)\n",
    "        "
   ]
  },
  {
   "cell_type": "code",
   "execution_count": 6,
   "id": "b751352b",
   "metadata": {
    "scrolled": true
   },
   "outputs": [
    {
     "name": "stdout",
     "output_type": "stream",
     "text": [
      "Please enter number2\n",
      "Multiplication table of number:2 * 1 = 2\n",
      "Multiplication table of number:2 * 2 = 4\n",
      "Multiplication table of number:2 * 3 = 6\n",
      "Multiplication table of number:2 * 4 = 8\n",
      "Multiplication table of number:2 * 5 = 10\n",
      "Multiplication table of number:2 * 6 = 12\n",
      "Multiplication table of number:2 * 7 = 14\n",
      "Multiplication table of number:2 * 8 = 16\n",
      "Multiplication table of number:2 * 9 = 18\n",
      "Multiplication table of number:2 * 10 = 20\n"
     ]
    }
   ],
   "source": [
    "'''Create a Python program that generates a multiplication table for a given number using a for loop.'''\n",
    "\n",
    "number =  int(input(\"Please enter number\"))\n",
    "for item in range(1,11):\n",
    "    print(f\"Multiplication table of number:{number} * {item} =\", number * item)"
   ]
  },
  {
   "cell_type": "code",
   "execution_count": 9,
   "id": "e9d71608",
   "metadata": {},
   "outputs": [
    {
     "name": "stdout",
     "output_type": "stream",
     "text": [
      "[8, 7, 6, 5, 4, 3, 2, 1]\n"
     ]
    }
   ],
   "source": [
    "'''Write a Python program to reverse a list using a for loop.'''\n",
    "new_list = [1,2,3,4,5,6,7,8]\n",
    "revr_list = []\n",
    "\n",
    "for i in range(len(new_list)):\n",
    "    revr_list.append(new_list[len(new_list)-i-1])\n",
    "print(revr_list)"
   ]
  },
  {
   "cell_type": "code",
   "execution_count": 11,
   "id": "1860d799",
   "metadata": {},
   "outputs": [
    {
     "name": "stdout",
     "output_type": "stream",
     "text": [
      "### common elements 2\n",
      "### common elements 3\n",
      "### common elements 4\n"
     ]
    }
   ],
   "source": [
    "'''Write a Python program to find the common elements between two lists using a for loop.\n",
    "'''\n",
    "list1 = [2,3,4,5,6]\n",
    "list2 = [2,3,4,7,8]\n",
    "for item in list1:\n",
    "    if item in list2:\n",
    "        print(\"### common elements\",item)"
   ]
  },
  {
   "cell_type": "code",
   "execution_count": 12,
   "id": "fc6357b2",
   "metadata": {},
   "outputs": [
    {
     "name": "stdout",
     "output_type": "stream",
     "text": [
      "key1 = value1\n",
      "key2 = value2\n",
      "key3 = value3\n"
     ]
    }
   ],
   "source": [
    "'''Explain how to use a for loop to iterate through the keys and values of a dictionary in Python.\n",
    "'''\n",
    "item_dict = {'key1':'value1','key2':'value2','key3':'value3'}\n",
    "\n",
    "for key, val in item_dict.items():\n",
    "    print(key, '=', val)"
   ]
  },
  {
   "cell_type": "code",
   "execution_count": 17,
   "id": "14c70654",
   "metadata": {},
   "outputs": [
    {
     "name": "stdout",
     "output_type": "stream",
     "text": [
      "Please enter number1 36\n",
      "Please enter number2 60\n",
      "Gcd of two numbers 12\n"
     ]
    }
   ],
   "source": [
    "'''Write a Python program to find the GCD (Greatest Common Divisor) of two numbers using a for loop.'''\n",
    "num1 = int(input(\"Please enter number1 \"))\n",
    "num2 = int(input(\"Please enter number2 \"))\n",
    "\n",
    "for i in range(1, min(num1,num2)):\n",
    "    if num1 % i == 0 and num2 % i == 0:\n",
    "        gcd = i\n",
    "\n",
    "print(\"Gcd of two numbers\", gcd)"
   ]
  },
  {
   "cell_type": "code",
   "execution_count": 28,
   "id": "ff11a5a4",
   "metadata": {},
   "outputs": [
    {
     "name": "stdout",
     "output_type": "stream",
     "text": [
      "It is a polindrome string\n"
     ]
    }
   ],
   "source": [
    "'''Create a Python program that checks if a string is a palindrome using a for loop.'''\n",
    "str1= \"abba\"\n",
    "revr_str = \"\"\n",
    "\n",
    "for item in str1:\n",
    "    revr_str = item + revr_str\n",
    "\n",
    "if str1 == revr_str:\n",
    "    print(\"It is a polindrome string\")\n",
    "else:\n",
    "    print(\"It is not a polindrome string\")"
   ]
  },
  {
   "cell_type": "code",
   "execution_count": 29,
   "id": "4c91b5e1",
   "metadata": {},
   "outputs": [
    {
     "name": "stdout",
     "output_type": "stream",
     "text": [
      "After removing duplicates [1, 2, 3, 4]\n"
     ]
    }
   ],
   "source": [
    "'''Write a Python program to remove duplicates from a list using a for loop.\n",
    "'''\n",
    "\n",
    "list1 = [1,1,2,2,3,3,4,4,5]\n",
    "\n",
    "for item in list1:\n",
    "    if item in list1:\n",
    "        list1.remove(item)\n",
    "\n",
    "print(\"After removing duplicates\", list1)"
   ]
  },
  {
   "cell_type": "code",
   "execution_count": 32,
   "id": "0323c87d",
   "metadata": {},
   "outputs": [
    {
     "name": "stdout",
     "output_type": "stream",
     "text": [
      "Total words present 5\n"
     ]
    }
   ],
   "source": [
    "'''Create a Python program that counts the number of words in a sentence using a for loop.\n",
    "'''\n",
    "sentence = \"Test for Python Program list\"\n",
    "\n",
    "count = 1\n",
    "\n",
    "for item in sentence:\n",
    "    if item  ==  ' ':\n",
    "        count+=1\n",
    "print(\"Total words present\", count)"
   ]
  },
  {
   "cell_type": "code",
   "execution_count": 33,
   "id": "50c3ba30",
   "metadata": {},
   "outputs": [
    {
     "name": "stdout",
     "output_type": "stream",
     "text": [
      "Odd numbers in give range [1, 3, 5, 7, 9, 11, 13, 15, 17, 19, 21, 23, 25, 27, 29, 31, 33, 35, 37, 39, 41, 43, 45, 47, 49]\n"
     ]
    }
   ],
   "source": [
    "'''Write a Python program to find the sum of all odd numbers from 1 to 50 using a for loop.\n",
    "'''\n",
    "odd_list  = []\n",
    "\n",
    "for item in range(1, 51):\n",
    "    if item % 2 != 0:\n",
    "        odd_list.append(item)\n",
    "print(\"Odd numbers in give range\", odd_list)"
   ]
  },
  {
   "cell_type": "code",
   "execution_count": 39,
   "id": "2760b2e6",
   "metadata": {},
   "outputs": [
    {
     "name": "stdout",
     "output_type": "stream",
     "text": [
      "Please enter year2025\n",
      "It is not leap year 2025\n"
     ]
    }
   ],
   "source": [
    "'''Write a Python program that checks if a given year is a leap year using a for loop.\n",
    "'''\n",
    "year  =  int(input(\"Please enter year\"))\n",
    "\n",
    "if ((year % 4) == 0 and (year % 100) !=0) or ((year % 400) == 0):\n",
    "    print(\"given year is leap year\", year)\n",
    "else:\n",
    "    print(\"It is not leap year\", year)\n"
   ]
  },
  {
   "cell_type": "code",
   "execution_count": 41,
   "id": "5a104cfc",
   "metadata": {},
   "outputs": [
    {
     "name": "stdout",
     "output_type": "stream",
     "text": [
      "Please enter number50\n",
      "7.0710678118654755\n"
     ]
    }
   ],
   "source": [
    "'''Create a Python program that calculates the square root of a number using a for loop.\n",
    "'''\n",
    "import math\n",
    "num1 = int(input(\"Please enter number\"))\n",
    "\n",
    "result = math.sqrt(num1)\n",
    "print(result)"
   ]
  },
  {
   "cell_type": "code",
   "execution_count": 44,
   "id": "cfa89ce8",
   "metadata": {},
   "outputs": [
    {
     "name": "stdout",
     "output_type": "stream",
     "text": [
      "Please enter number1 15\n",
      "please enter number2 25\n",
      "LCM is 75\n"
     ]
    }
   ],
   "source": [
    "'''Write a Python program to find the LCM (Least Common Multiple) of two numbers using a for loop.'''\n",
    "\n",
    "import math\n",
    "\n",
    "num1  =  int(input(\"Please enter number1 \"))\n",
    "num2 = int(input(\"please enter number2 \"))\n",
    "result = math.lcm(num1, num2)\n",
    "\n",
    "print(\"LCM is\", result)"
   ]
  },
  {
   "cell_type": "code",
   "execution_count": 63,
   "id": "6f6d1a84",
   "metadata": {},
   "outputs": [
    {
     "name": "stdout",
     "output_type": "stream",
     "text": [
      "Please enter number: 5\n",
      "it is positive number\n"
     ]
    }
   ],
   "source": [
    "'''Write a Python program to check if a number is positive, negative, or zero using an if-else statement.'''\n",
    "num  = float(input(\"Please enter number: \"))\n",
    "\n",
    "if num > 0:\n",
    "    print(\"it is positive number\")\n",
    "elif num == 0:\n",
    "    print(\"It is zero\")\n",
    "else:\n",
    "    print(\"It is negative number\")\n",
    "    "
   ]
  },
  {
   "cell_type": "code",
   "execution_count": 65,
   "id": "bede65f4",
   "metadata": {},
   "outputs": [
    {
     "name": "stdout",
     "output_type": "stream",
     "text": [
      "Please enter number10\n",
      "Number is even\n"
     ]
    }
   ],
   "source": [
    "'''Create a Python program that checks if a given number is even or odd using an if-else statement.'''\n",
    "\n",
    "num = int(input(\"Please enter number\"))\n",
    "\n",
    "if num%2 == 0:\n",
    "    print(\"Number is even\")\n",
    "else:\n",
    "    print(\"Number is odd\")"
   ]
  },
  {
   "cell_type": "code",
   "execution_count": 68,
   "id": "b69b4121",
   "metadata": {},
   "outputs": [
    {
     "name": "stdout",
     "output_type": "stream",
     "text": [
      "Please enter number: 3\n",
      "it is positive number\n"
     ]
    }
   ],
   "source": [
    "'''How can you use nested if-else statements in Python, and provide an example?'''\n",
    "num  = float(input(\"Please enter number: \"))\n",
    "\n",
    "if num >= 0:\n",
    "    if num == 0:\n",
    "        print(\"it is zero\")\n",
    "    else:\n",
    "        print(\"it is positive number\")\n",
    "else:\n",
    "    print(\"It is negative number\")\n",
    "    "
   ]
  },
  {
   "cell_type": "code",
   "execution_count": 70,
   "id": "b3a373ae",
   "metadata": {},
   "outputs": [
    {
     "name": "stdout",
     "output_type": "stream",
     "text": [
      "5\n"
     ]
    }
   ],
   "source": [
    "'''Write a Python program to determine the largest of three numbers using if-else.\n",
    "'''\n",
    "num1=2\n",
    "num2=3\n",
    "num3=5\n",
    "\n",
    "if num1> num2 and num1>num3:\n",
    "    print(num1)\n",
    "elif num2>num1 and num2>num3:\n",
    "    print(num2)\n",
    "else:\n",
    "    print(num3)"
   ]
  },
  {
   "cell_type": "code",
   "execution_count": 73,
   "id": "f99a7f4f",
   "metadata": {},
   "outputs": [
    {
     "name": "stdout",
     "output_type": "stream",
     "text": [
      "Please enter number1\n",
      "absolute value of number 1\n"
     ]
    }
   ],
   "source": [
    "'''Write a Python program that calculates the absolute value of a number using if-else.\n",
    "'''\n",
    "num  = int(input(\"Please enter number\"))\n",
    "\n",
    "if num <0:\n",
    "    result =  num * -1\n",
    "else:\n",
    "    result = num * 1 \n",
    "print(\"absolute value of number\", result)"
   ]
  },
  {
   "cell_type": "code",
   "execution_count": 75,
   "id": "be6d27b9",
   "metadata": {},
   "outputs": [
    {
     "name": "stdout",
     "output_type": "stream",
     "text": [
      "Please enter characterl\n",
      "Given char is consonant\n"
     ]
    }
   ],
   "source": [
    "'''Create a Python program that checks if a given character is a vowel or consonant using if-else.'''\n",
    "\n",
    "char = input(\"Please enter character\")\n",
    "\n",
    "if char in [\"a\", \"e\", \"i\", \"o\", \"u\"]:\n",
    "    print(\"Given char is vowel\")\n",
    "else:\n",
    "    print(\"Given char is consonant\")"
   ]
  },
  {
   "cell_type": "code",
   "execution_count": 77,
   "id": "51e99fad",
   "metadata": {},
   "outputs": [
    {
     "name": "stdout",
     "output_type": "stream",
     "text": [
      "please enter age12\n",
      "Not eligible for vote\n"
     ]
    }
   ],
   "source": [
    "'''Write a Python program to determine if a user is eligible to vote based on their age using if-else.\n",
    "'''\n",
    "age = float(input(\"please enter age\"))\n",
    "\n",
    "if age>=18:\n",
    "    print(\"Eligible for vote\")\n",
    "else:\n",
    "    print(\"Not eligible for vote\")"
   ]
  },
  {
   "cell_type": "code",
   "execution_count": 81,
   "id": "028cc8a8",
   "metadata": {},
   "outputs": [
    {
     "name": "stdout",
     "output_type": "stream",
     "text": [
      "please enter amount11000\n",
      "Discounted price 100.0\n"
     ]
    }
   ],
   "source": [
    "'''Create a Python program that calculates the discount amount based on the purchase amount using if-else.'''\n",
    "amount = float(input(\"please enter amount\"))\n",
    "\n",
    "if amount>1000:\n",
    "    discount_price = (1000 * 10)/100\n",
    "else:\n",
    "    discount_price = (1000 * 5)/ 100\n",
    "    \n",
    "print(\"Discounted price\", discount_price)"
   ]
  },
  {
   "cell_type": "code",
   "execution_count": 83,
   "id": "dc278bfc",
   "metadata": {},
   "outputs": [
    {
     "name": "stdout",
     "output_type": "stream",
     "text": [
      "please enter number200\n",
      "numbes is out of range\n"
     ]
    }
   ],
   "source": [
    "'''Write a Python program to check if a number is within a specified range using if-else.'''\n",
    "\n",
    "number = int(input(\"please enter number\"))\n",
    "\n",
    "if number in range(1,100):\n",
    "    print(\"number is with in range\")\n",
    "else:\n",
    "    print(\"numbes is out of range\")"
   ]
  },
  {
   "cell_type": "code",
   "execution_count": 6,
   "id": "eddaa30d",
   "metadata": {},
   "outputs": [
    {
     "name": "stdout",
     "output_type": "stream",
     "text": [
      "Please enter total score3\n",
      "Grade is C\n"
     ]
    }
   ],
   "source": [
    "'''Create a Python program that determines the grade of a student based on their score using if-else.'''\n",
    "\n",
    "score = float(input(\"Please enter total score\"))\n",
    "\n",
    "if score>=80:\n",
    "    print(\"Grade is A\")\n",
    "elif score<80 and score >=60:\n",
    "    print(\"Grade is B\")\n",
    "else:\n",
    "    print(\"Grade is C\")"
   ]
  },
  {
   "cell_type": "code",
   "execution_count": 4,
   "id": "881bc6bf",
   "metadata": {},
   "outputs": [
    {
     "name": "stdout",
     "output_type": "stream",
     "text": [
      "Please enter stringtest\n",
      "string is not empty\n"
     ]
    }
   ],
   "source": [
    "\n",
    "''' Write a Python program to check if a string is empty or not using if-else.\n",
    "'''\n",
    "str1 = input(\"Please enter string\")\n",
    "if len(str1)==0:\n",
    "    print(\"String is empty\")\n",
    "else:\n",
    "    print(\"string is not empty\")"
   ]
  },
  {
   "cell_type": "code",
   "execution_count": 7,
   "id": "fe8e2968",
   "metadata": {},
   "outputs": [
    {
     "name": "stdout",
     "output_type": "stream",
     "text": [
      "Please enter side15\n",
      "Please enter side25\n",
      "Please enter side35\n",
      "Triangle is equilateral\n"
     ]
    }
   ],
   "source": [
    "'''Create a Python program that identifies the type of a triangle (e.g., equilateral, isosceles, or scalene) based on input values using if-else.'''\n",
    "\n",
    "side1 = int(input(\"Please enter side1\"))\n",
    "side2 = int(input(\"Please enter side2\"))\n",
    "side3 = int(input(\"Please enter side3\"))\n",
    "if side1 == side2 and side2 == side3:\n",
    "    print(\"Triangle is equilateral\")\n",
    "elif side1 == side2 or side1 == side3 or side2 == side3:\n",
    "    print(\"Triangle is isosceles\")\n",
    "else:\n",
    "    print(\"Triangle is scalane\")"
   ]
  },
  {
   "cell_type": "code",
   "execution_count": 8,
   "id": "1af3ddb2",
   "metadata": {},
   "outputs": [
    {
     "name": "stdout",
     "output_type": "stream",
     "text": [
      "Please enter number of week2\n",
      "Week day is Tuesday\n"
     ]
    }
   ],
   "source": [
    "'''Write a Python program to determine the day of the week based on a user-provided number using if-else.'''\n",
    "\n",
    "week_number = int(input(\"Please enter number of week\"))\n",
    "\n",
    "if week_number == 1:\n",
    "    print(\"Week day is Monday\")\n",
    "elif week_number == 2:\n",
    "    print(\"Week day is Tuesday\")\n",
    "elif week_number == 3:\n",
    "    print(\"Week day is Wednesday\")\n",
    "elif week_number == 4:\n",
    "    print(\"Week day is Thursday\")\n",
    "elif week_number == 5:\n",
    "    print(\"Week day is Friday\")\n",
    "elif week_number == 6:\n",
    "    print(\"Week day is Saturday\")\n",
    "else:\n",
    "    print(\"Week day is Sunday\")\n",
    "    "
   ]
  },
  {
   "cell_type": "code",
   "execution_count": 10,
   "id": "979cc907",
   "metadata": {},
   "outputs": [
    {
     "name": "stdout",
     "output_type": "stream",
     "text": [
      "Please enter year2000\n",
      "It is not leap year\n"
     ]
    }
   ],
   "source": [
    "'''Create a Python program that checks if a given year is a leap year using both if-else and a function.'''\n",
    "\n",
    "year = int(input(\"Please enter year\"))\n",
    "\n",
    "if ((year %4 == 0) and (year% 100 !=0)) or (year % 400 !=0):\n",
    "    print(\"It is leap year\")\n",
    "else:\n",
    "    print(\"It is not leap year\")"
   ]
  },
  {
   "cell_type": "code",
   "execution_count": 12,
   "id": "a5a95cb3",
   "metadata": {},
   "outputs": [
    {
     "name": "stdout",
     "output_type": "stream",
     "text": [
      "please enter age80\n",
      "please enter stateFlorida\n",
      "Eligible for senior discount\n"
     ]
    }
   ],
   "source": [
    "'''Create a Python program that determines the eligibility of a person for a senior citizen discount based on age using if-else.'''\n",
    "\n",
    "age = int(input(\"please enter age\"))\n",
    "state = input(\"please enter state\")\n",
    " \n",
    "if age>=70 and state == \"Florida\":\n",
    "    print(\"Eligible for senior discount\")\n",
    "else:\n",
    "    print(\"Not eligible for discount\")"
   ]
  },
  {
   "cell_type": "code",
   "execution_count": 15,
   "id": "3712db73",
   "metadata": {},
   "outputs": [
    {
     "name": "stdout",
     "output_type": "stream",
     "text": [
      "Please enter characterA\n",
      "Character is uppercase\n"
     ]
    }
   ],
   "source": [
    "'''Write a Python program to categorize a given character as uppercase, lowercase, or neither using if-else.'''\n",
    "\n",
    "char = input(\"Please enter character\")\n",
    "\n",
    "if char.isupper():\n",
    "    print(\"Character is uppercase\")\n",
    "elif char.islower():\n",
    "    print(\"Character is lowercase\")\n",
    "else:\n",
    "    print(\"Invalid\")"
   ]
  },
  {
   "cell_type": "code",
   "execution_count": 19,
   "id": "00bc3e4a",
   "metadata": {},
   "outputs": [
    {
     "name": "stdout",
     "output_type": "stream",
     "text": [
      "Please enter number a8\n",
      "Please enter number b5\n",
      "Please enter number c9\n",
      "final results in (-20-64.86909896090742j) (-20+64.86909896090742j)\n"
     ]
    }
   ],
   "source": [
    "'''Write a Python program to determine the roots of a quadratic equation using if-else'''\n",
    "\n",
    "import cmath\n",
    "\n",
    "a = float(input(\"Please enter number a\"))\n",
    "b = float(input(\"Please enter number b\"))\n",
    "c = float(input(\"Please enter number c\"))\n",
    "\n",
    "dis =  (b **2) - (4 * a * c)\n",
    "\n",
    "res1= (-b-cmath.sqrt(dis))/ 2 *a\n",
    "res2 = (-b+cmath.sqrt(dis))/ 2 *a\n",
    "print(\"final results in\", res1, res2)"
   ]
  },
  {
   "cell_type": "code",
   "execution_count": 24,
   "id": "fbe4b854",
   "metadata": {},
   "outputs": [
    {
     "name": "stdout",
     "output_type": "stream",
     "text": [
      "Please enter year2001\n",
      "21 century\n"
     ]
    }
   ],
   "source": [
    "'''Create a Python program that checks if a given year is a century year or not using if-else.'''\n",
    "year = int(input(\"Please enter year\"))\n",
    "\n",
    "if year <=0:\n",
    "    print(\"Year is zero, negative and it is not allowed\")\n",
    "elif year <= 100:\n",
    "    print(\"1st century\")\n",
    "elif (year % 100 == 0):\n",
    "    print(year // 100, \"century\")\n",
    "else:\n",
    "    print(year // 100 + 1, \"century\")"
   ]
  },
  {
   "cell_type": "code",
   "execution_count": 34,
   "id": "8d4e2052",
   "metadata": {},
   "outputs": [
    {
     "name": "stdout",
     "output_type": "stream",
     "text": [
      "please enter number217\n",
      "14.730919862656235\n",
      "It is not perfect square\n"
     ]
    }
   ],
   "source": [
    "'''Write a Python program to determine if a given number is a perfect square using if-else.'''\n",
    "import math\n",
    "\n",
    "num = int(input(\"please enter number\"))\n",
    "\n",
    "sq_root = math.sqrt(num)\n",
    "print(sq_root)\n",
    "if sq_root * sq_root == num:\n",
    "    print(\"It is perfect square\")\n",
    "else:\n",
    "    print(\"It is not perfect square\")"
   ]
  },
  {
   "cell_type": "code",
   "execution_count": 35,
   "id": "b872b577",
   "metadata": {},
   "outputs": [
    {
     "name": "stdout",
     "output_type": "stream",
     "text": [
      "Please enter height in meters150\n",
      "Please enter weight70\n",
      "it is under weight\n"
     ]
    }
   ],
   "source": [
    "'''Write a program that calculates the BMI (Body Mass Index) and provides health recommendations based\n",
    "on the user's input.'''\n",
    "\n",
    "height = float(input(\"Please enter height in meters\"))\n",
    "weight = float(input(\"Please enter weight\"))\n",
    "\n",
    "BMI = round(weight/(height **2),2)\n",
    "if BMI <= 18.5:\n",
    "    print(\"it is under weight\")\n",
    "elif 18.5< BMI <=24.9:\n",
    "    print(\"it is normal\")\n",
    "elif 25< BMI <=29.29:\n",
    "    print(\"it is over weight\")\n",
    "else:\n",
    "    print(\"You are obese\")\n",
    "    "
   ]
  },
  {
   "cell_type": "code",
   "execution_count": 1,
   "id": "a40dd4be",
   "metadata": {},
   "outputs": [
    {
     "name": "stdout",
     "output_type": "stream",
     "text": [
      "please enter year 9\n",
      "given number is not prime\n"
     ]
    }
   ],
   "source": [
    "'''Develop a program that checks if a given number is prime or not using if-else statements.'''\n",
    "a= int(input(\"please enter year \"))\n",
    "if a>0:\n",
    "    for i in range(2, a):\n",
    "        if a%i == 0:\n",
    "            print(\"given number is not prime\")\n",
    "            break\n",
    "    else:\n",
    "        print(\"given number is prime\")"
   ]
  },
  {
   "cell_type": "code",
   "execution_count": 5,
   "id": "85bf8d78",
   "metadata": {},
   "outputs": [
    {
     "name": "stdout",
     "output_type": "stream",
     "text": [
      "test\n",
      "After break statement\n",
      "After break statement\n",
      "After continue statement\n",
      "After continue statement\n",
      "After continue statement\n"
     ]
    },
    {
     "data": {
      "text/plain": [
       "'Break Statement will come out of the code and later statements will not execute\\nContinut Statement will not continue curent iteration but will execute other iterations '"
      ]
     },
     "execution_count": 5,
     "metadata": {},
     "output_type": "execute_result"
    }
   ],
   "source": [
    "'''Explain the purpose of the \"continue\" and \"break\" statements within if-else loops.\n",
    "'''\n",
    "list1 = [1,2,3,4]\n",
    "print(\"test\")\n",
    "for item in list1:\n",
    "    if item == 3:\n",
    "        break\n",
    "    print(\"After break statement\")\n",
    "        \n",
    "for item in list1:\n",
    "    if item == 4:\n",
    "        continue\n",
    "    print(\"After continue statement\")\n",
    "    \n",
    "'''Break Statement will come out of the code and later statements will not execute\n",
    "Continut Statement will not continue curent iteration but will execute other iterations '''"
   ]
  },
  {
   "cell_type": "code",
   "execution_count": 7,
   "id": "1f4a958e",
   "metadata": {},
   "outputs": [
    {
     "name": "stdout",
     "output_type": "stream",
     "text": [
      "[2, 4, 6, 8]\n"
     ]
    },
    {
     "data": {
      "text/plain": [
       "'filter function will actually filter even elements from a list'"
      ]
     },
     "execution_count": 7,
     "metadata": {},
     "output_type": "execute_result"
    }
   ],
   "source": [
    "'''How can you use the \"filter()\" function with if-else statements to filter elements from a list?'''\n",
    "list3 = [2,4,6,8,7,9]\n",
    "\n",
    "result = list(filter(lambda x:x%2 == 0, list3))\n",
    "\n",
    "print(result)\n",
    "\n",
    "'''filter function will actually filter even elements from a list'''"
   ]
  },
  {
   "cell_type": "code",
   "execution_count": 11,
   "id": "29a17f50",
   "metadata": {},
   "outputs": [
    {
     "name": "stdout",
     "output_type": "stream",
     "text": [
      "[4, 6, 8, 10, 12]\n"
     ]
    },
    {
     "data": {
      "text/plain": [
       "'map function will apply any function to each and every  element in given list then result list will be changed.It will return a\\nobject. Elements will display from it by converting it to list or by for loop'"
      ]
     },
     "execution_count": 11,
     "metadata": {},
     "output_type": "execute_result"
    }
   ],
   "source": [
    "'''Explain the purpose of the `map()` function in Python and provide an example of how it can be used to apply a function to each element of an iterable'''\n",
    "list3 = [2,3,4,5,6]\n",
    "\n",
    "result4 = list(map(lambda x:x*2, list3))\n",
    "\n",
    "print(result4)\n",
    "\n",
    "'''map function will apply any function to each and every  element in given list then result list will be changed.It will return a\n",
    "object. Elements will display from it by converting it to list or by for loop'''"
   ]
  },
  {
   "cell_type": "code",
   "execution_count": 12,
   "id": "32825d0f",
   "metadata": {},
   "outputs": [
    {
     "name": "stdout",
     "output_type": "stream",
     "text": [
      "square of elements [4, 9, 16, 25, 36]\n"
     ]
    }
   ],
   "source": [
    "'''Write a Python program that uses the `map()` function to square each element of a list of numbers.'''\n",
    "list4 = [2,3,4,5,6]\n",
    "\n",
    "result = list(map(lambda x:x**2, list4))\n",
    "\n",
    "print(\"square of elements\", result)"
   ]
  },
  {
   "cell_type": "code",
   "execution_count": 13,
   "id": "8b54d354",
   "metadata": {},
   "outputs": [
    {
     "data": {
      "text/plain": [
       "'map function uses lambda function is usually slower than list comprehension.When map is used by a named function it is faster.\\nList comprehesion will rerutn a list. map function will return a object.When working with huge data map is useful and work more\\nefficienltly than list comprehension. Map is preferred when using with a defined function rather than lamda function'"
      ]
     },
     "execution_count": 13,
     "metadata": {},
     "output_type": "execute_result"
    }
   ],
   "source": [
    "'''How does the `map()` function differ from a list comprehension in Python, and when would you choose one over the other?'''\n",
    "\n",
    "'''map function uses lambda function is usually slower than list comprehension.When map is used by a named function it is faster.\n",
    "List comprehesion will rerutn a list. map function will return a object.When working with huge data map is useful and work more\n",
    "efficienltly than list comprehension. Map is preferred when using with a defined function rather than lamda function'''"
   ]
  },
  {
   "cell_type": "code",
   "execution_count": 15,
   "id": "7091bc88",
   "metadata": {},
   "outputs": [
    {
     "name": "stdout",
     "output_type": "stream",
     "text": [
      "['TEST', 'NAME', 'NEW']\n"
     ]
    }
   ],
   "source": [
    "'''Create a Python program that uses the `map()` function to convert a list of names to uppercase.\n",
    "'''\n",
    "names_list= [\"test\",\"name\",\"new\"]\n",
    "\n",
    "conv_list = list(map(lambda x:x.upper(), names_list))\n",
    "\n",
    "print(conv_list)"
   ]
  },
  {
   "cell_type": "code",
   "execution_count": 18,
   "id": "2b031d2a",
   "metadata": {},
   "outputs": [
    {
     "name": "stdout",
     "output_type": "stream",
     "text": [
      "[4, 4, 3]\n"
     ]
    }
   ],
   "source": [
    "'''Write a Python program that uses the `map()` function to calculate the length of each word in a list of strings.\n",
    "'''\n",
    "\n",
    "names_list= [\"test\",\"name\",\"new\"]\n",
    "\n",
    "conv_list = list(map(lambda x:len(x), names_list))\n",
    "\n",
    "print(conv_list)"
   ]
  },
  {
   "cell_type": "code",
   "execution_count": 19,
   "id": "349cf61b",
   "metadata": {},
   "outputs": [
    {
     "name": "stdout",
     "output_type": "stream",
     "text": [
      "[8, 10, 12, 14, 16]\n"
     ]
    }
   ],
   "source": [
    "'''How can you use the `map()` function to apply a custom function to elements of multiple lists simultaneously in Python?'''\n",
    "\n",
    "list4 = [4,5,6,7,8]\n",
    "\n",
    "def mul_by_2(item):\n",
    "    return item * 2\n",
    "\n",
    "result_list = list(map(mul_by_2, list4))\n",
    "print(result_list)"
   ]
  },
  {
   "cell_type": "code",
   "execution_count": 20,
   "id": "5396ee77",
   "metadata": {},
   "outputs": [
    {
     "name": "stdout",
     "output_type": "stream",
     "text": [
      "[55.400000000000006, 57.2, 60.8, 62.6, 64.4]\n"
     ]
    }
   ],
   "source": [
    "'''Create a Python program that uses `map()` to convert a list of temperatures from Celsius to Fahrenheit.'''\n",
    "\n",
    "def conv_farenhit(item):\n",
    "    conv_temp = (1.8 * item) + 32\n",
    "    return conv_temp\n",
    "cel_temp = [13,14,16,17,18]\n",
    "\n",
    "result_temp = list(map(conv_farenhit, cel_temp))\n",
    "\n",
    "print(result_temp)"
   ]
  },
  {
   "cell_type": "code",
   "execution_count": 21,
   "id": "99b14073",
   "metadata": {},
   "outputs": [
    {
     "name": "stdout",
     "output_type": "stream",
     "text": [
      "[12, 13, 16, 17]\n"
     ]
    }
   ],
   "source": [
    "\n",
    "'''Write a Python program that uses the `map()` function to round each element of a list of floating-point numbers to the nearest integer.'''\n",
    "\n",
    "list1= [12.46,13.45,16.48,17.33]\n",
    "\n",
    "def conv_num(item):\n",
    "    res = round(item)\n",
    "    return res\n",
    "\n",
    "result = list(map(conv_num, list1))\n",
    "print(result)"
   ]
  },
  {
   "cell_type": "code",
   "execution_count": 23,
   "id": "1049eca7",
   "metadata": {},
   "outputs": [
    {
     "name": "stdout",
     "output_type": "stream",
     "text": [
      "10\n"
     ]
    }
   ],
   "source": [
    "'''What is the `reduce()` function in Python, and what module should you import to use it? Provide an example of its basic usage.'''\n",
    "\n",
    "'''reduce function will apply function to list of elements.It will return result by applying given function to list.\n",
    "reduce will be imported from functools'''\n",
    "\n",
    "'''program to add all elements'''\n",
    "\n",
    "list6 = [1,2,3,4]\n",
    "\n",
    "import functools\n",
    "\n",
    "result = functools.reduce(lambda a,b:a+b, list6)\n",
    "\n",
    "print(result)"
   ]
  },
  {
   "cell_type": "code",
   "execution_count": 24,
   "id": "b055a309",
   "metadata": {},
   "outputs": [
    {
     "name": "stdout",
     "output_type": "stream",
     "text": [
      "6\n"
     ]
    }
   ],
   "source": [
    "'''Write a Python program that uses the `reduce()` function to find the product of all elements in a list.'''\n",
    "\n",
    "list7= [1,2,3]\n",
    "\n",
    "import functools\n",
    "\n",
    "result = functools.reduce(lambda a,b:a*b, list7)\n",
    "\n",
    "print(result)"
   ]
  },
  {
   "cell_type": "code",
   "execution_count": 25,
   "id": "bc060981",
   "metadata": {},
   "outputs": [
    {
     "name": "stdout",
     "output_type": "stream",
     "text": [
      "3\n"
     ]
    }
   ],
   "source": [
    "'''Create a Python program that uses `reduce()` to find the maximum element in a list of numbers.\n",
    "'''\n",
    "\n",
    "list8= [1,2,3]\n",
    "\n",
    "import functools\n",
    "\n",
    "result = functools.reduce(lambda a,b:a if a>b else b, list8)\n",
    "\n",
    "print(result)"
   ]
  },
  {
   "cell_type": "code",
   "execution_count": 29,
   "id": "b40fdc2f",
   "metadata": {},
   "outputs": [
    {
     "name": "stdout",
     "output_type": "stream",
     "text": [
      "new test string\n"
     ]
    }
   ],
   "source": [
    "'''How can you use the `reduce()` function to concatenate a list of strings into a single string?'''\n",
    "\n",
    "import functools\n",
    "\n",
    "list1= [\"new\",\"test\",\"string\"]\n",
    "def concatenate(str1, str2):\n",
    "    return str1+ ' '+str2\n",
    "\n",
    "result = functools.reduce(concatenate,list1)\n",
    "\n",
    "print(result)\n"
   ]
  },
  {
   "cell_type": "code",
   "execution_count": 31,
   "id": "fbd05181",
   "metadata": {},
   "outputs": [
    {
     "name": "stdout",
     "output_type": "stream",
     "text": [
      "please enter number3\n",
      "6\n"
     ]
    }
   ],
   "source": [
    "'''Write a Python program that calculates the factorial of a number using the `reduce()` function.\n",
    "'''\n",
    "import functools\n",
    "num = int(input(\"please enter number\"))\n",
    "\n",
    "result = functools.reduce(lambda x, y: x * y, range(1,num+1))\n",
    "\n",
    "print(result)\n"
   ]
  },
  {
   "cell_type": "code",
   "execution_count": 36,
   "id": "af58d686",
   "metadata": {},
   "outputs": [
    {
     "name": "stdout",
     "output_type": "stream",
     "text": [
      "2\n"
     ]
    }
   ],
   "source": [
    "'''Create a Python program that uses `reduce()` to find the GCD (Greatest Common Divisor) of a list of numbers.\n",
    "'''\n",
    "import math\n",
    "import functools\n",
    "\n",
    "list4= [2,4,6,8]\n",
    "\n",
    "result = functools.reduce(lambda x,y:math.gcd(x,y), list4)\n",
    "\n",
    "print(result)\n"
   ]
  },
  {
   "cell_type": "code",
   "execution_count": 6,
   "id": "9321d37b",
   "metadata": {
    "scrolled": true
   },
   "outputs": [
    {
     "name": "stdout",
     "output_type": "stream",
     "text": [
      "2345\n"
     ]
    }
   ],
   "source": [
    "'''Write a Python program that uses the `reduce()` function to find the sum of the digits of a given number.'''\n",
    "import functools\n",
    "num = 2345\n",
    "\n",
    "def getSum(n):\n",
    "    sum = 0\n",
    "    for i in n:\n",
    "        sum += i\n",
    "    return sum\n",
    "\n",
    "result = functools.reduce(lambda x,y:x+y, list(str(num)))\n",
    "\n",
    "print(result)\n"
   ]
  },
  {
   "cell_type": "code",
   "execution_count": 8,
   "id": "bea74b5c",
   "metadata": {},
   "outputs": [
    {
     "name": "stdout",
     "output_type": "stream",
     "text": [
      "[6, 9]\n"
     ]
    }
   ],
   "source": [
    "'''Explain the purpose of the `filter()` function in Python and provide an example of how it can be used to filter elements from an iterable.\n",
    "'''\n",
    "'''filter() function will filter the list of elements by given condition. Filter can make use of lambda and any custom function\n",
    "to filter elements from given list'''\n",
    "\n",
    "list4 = [2,4,6,8,9]\n",
    "\n",
    "new_list = list(filter(lambda x:x%3 == 0, list4))\n",
    "\n",
    "print(new_list)"
   ]
  },
  {
   "cell_type": "code",
   "execution_count": 10,
   "id": "99dd2be9",
   "metadata": {},
   "outputs": [
    {
     "name": "stdout",
     "output_type": "stream",
     "text": [
      "[2, 4, 6, 8]\n"
     ]
    }
   ],
   "source": [
    "'''Write a Python program that uses the `filter()` function to select even numbers from a list of integers.'''\n",
    "\n",
    "list4 = [2,4,6,8,9,7]\n",
    "\n",
    "even_list  = list(filter(lambda x:x%2 == 0, list4))\n",
    "print(even_list)"
   ]
  },
  {
   "cell_type": "code",
   "execution_count": 12,
   "id": "2cee12f3",
   "metadata": {},
   "outputs": [
    {
     "name": "stdout",
     "output_type": "stream",
     "text": [
      "['apple', 'an', 'arguement']\n"
     ]
    }
   ],
   "source": [
    "'''Create a Python program that uses the `filter()` function to select names that start with a specific letter from a list of strings.'''\n",
    "list4 = [\"apple\", \"an\",\"arguement\",\"ball\"]\n",
    "\n",
    "filter_list = list(filter(lambda x:x.startswith('a'), list4))\n",
    "\n",
    "print(filter_list)"
   ]
  },
  {
   "cell_type": "code",
   "execution_count": 15,
   "id": "4a750b2a",
   "metadata": {},
   "outputs": [
    {
     "name": "stdout",
     "output_type": "stream",
     "text": [
      "[2, 3, 5]\n"
     ]
    }
   ],
   "source": [
    "'''Write a Python program that uses the `filter()` function to select prime numbers from a list of integers.\n",
    "'''\n",
    "\n",
    "def prime_num(a):\n",
    "    if a>0:\n",
    "        for i in range(2, a):\n",
    "            if a%i == 0:\n",
    "                break\n",
    "        else:\n",
    "            return a\n",
    "list4 = [2,3,4,5,6]\n",
    "\n",
    "new_list = list(filter(prime_num, list4))\n",
    "\n",
    "print(new_list)"
   ]
  },
  {
   "cell_type": "code",
   "execution_count": 16,
   "id": "a8a19569",
   "metadata": {
    "scrolled": true
   },
   "outputs": [
    {
     "name": "stdout",
     "output_type": "stream",
     "text": [
      "[1, 2, 3]\n"
     ]
    }
   ],
   "source": [
    "'''How can you use the `filter()` function to remove None values from a list in Python?'''\n",
    "\n",
    "list4 = [1,2,3,None,None]\n",
    "\n",
    "result_list = list(filter(lambda x:x!=None, list4))\n",
    "\n",
    "print(result_list)"
   ]
  },
  {
   "cell_type": "code",
   "execution_count": 21,
   "id": "a2c3537c",
   "metadata": {},
   "outputs": [
    {
     "name": "stdout",
     "output_type": "stream",
     "text": [
      "['le', 'te']\n"
     ]
    }
   ],
   "source": [
    "'''Create a Python program that uses `filter()` to select words longer than a certain length from a list of strings.'''\n",
    "list6 = [\"tes\",\"test new\", \"test string\", \"test string length\",\"le\",\"te\"]\n",
    "\n",
    "result_list = list(filter(lambda x:len(x)<3, list6))\n",
    "\n",
    "print(result_list)"
   ]
  },
  {
   "cell_type": "code",
   "execution_count": 23,
   "id": "1a26c0e6",
   "metadata": {},
   "outputs": [
    {
     "name": "stdout",
     "output_type": "stream",
     "text": [
      "['test1', 'test3', 'test length']\n"
     ]
    }
   ],
   "source": [
    "'''Write a Python program that uses the `filter()` function to select elements greater than a specified threshold from a list of values.'''\n",
    "list5 = [\"test1\",\"test3\",\"test length\",\"new\"]\n",
    "threshold = 3\n",
    "\n",
    "result_list = list(filter(lambda x:len(x)>=4, list5))\n",
    "\n",
    "print(result_list)\n"
   ]
  },
  {
   "cell_type": "code",
   "execution_count": 24,
   "id": "427f61c8",
   "metadata": {},
   "outputs": [
    {
     "data": {
      "text/plain": [
       "'Recursion is the method to call the function by itself.Iteration is like a loop that executes set of instructions using for and\\nwhile loops. Iteration will include initalization, executing statements, comparing statements,controlling varaibles.\\nRecursion is the process of defining something in terms of itself.'"
      ]
     },
     "execution_count": 24,
     "metadata": {},
     "output_type": "execute_result"
    }
   ],
   "source": [
    "'''Explain the concept of recursion in Python. How does it differ from iteration?\n",
    "'''\n",
    "\n",
    "'''Recursion is the method to call the function by itself.Iteration is like a loop that executes set of instructions using for and\n",
    "while loops. Iteration will include initalization, executing statements, comparing statements,controlling varaibles.\n",
    "Recursion is the process of defining something in terms of itself.'''"
   ]
  },
  {
   "cell_type": "code",
   "execution_count": 27,
   "id": "0c9563dc",
   "metadata": {},
   "outputs": [
    {
     "name": "stdout",
     "output_type": "stream",
     "text": [
      "Please enter number3\n",
      "6\n"
     ]
    }
   ],
   "source": [
    "'''Write a Python program to calculate the factorial of a number using recursion.'''\n",
    "def fact(n):\n",
    "    if n == 1:\n",
    "        return n\n",
    "    else:\n",
    "        return n * fact(n-1)\n",
    "    \n",
    "num = int(input(\"Please enter number\"))\n",
    "\n",
    "print(fact(num))\n",
    "\n",
    "\n"
   ]
  },
  {
   "cell_type": "code",
   "execution_count": 5,
   "id": "ed0968ea",
   "metadata": {},
   "outputs": [
    {
     "name": "stdout",
     "output_type": "stream",
     "text": [
      "Please enter number6\n",
      "5\n"
     ]
    }
   ],
   "source": [
    "'''Create a recursive Python function to find the nth Fibonacci number.\n",
    "'''\n",
    "def fibnocci(n):\n",
    "    if n <= 0:\n",
    "        print(\"Incorrect Input\")\n",
    "    elif n == 1:\n",
    "        return 0\n",
    "    elif n == 2:\n",
    "        return 1\n",
    "    else:\n",
    "        return fibnocci(n-1)+fibnocci(n-2)\n",
    "    \n",
    "num = int(input(\"Please enter number\"))\n",
    "print(fibnocci(num))"
   ]
  },
  {
   "cell_type": "code",
   "execution_count": 7,
   "id": "f9e8bb7f",
   "metadata": {},
   "outputs": [
    {
     "name": "stdout",
     "output_type": "stream",
     "text": [
      "sum of list elements 15\n"
     ]
    }
   ],
   "source": [
    "'''Write a recursive Python function to calculate the sum of all elements in a list.'''\n",
    "\n",
    "list1 = [1,2,3,4,5]\n",
    "sum_num = 0\n",
    "for item in list1:\n",
    "    sum_num +=item\n",
    "print(\"sum of list elements\",sum_num)"
   ]
  },
  {
   "cell_type": "code",
   "execution_count": 2,
   "id": "1f94e264",
   "metadata": {},
   "outputs": [],
   "source": [
    "'''How can you prevent a recursive function from running indefinitely, causing a stack overflow error?'\n",
    "'''\n",
    "import sys\n",
    "sys.setrecursionlimit(10 **2)\n",
    "\n",
    "def fact(n):\n",
    "    if n == 1:\n",
    "        return n\n",
    "    return n* fact(n-1)\n",
    "    "
   ]
  },
  {
   "cell_type": "code",
   "execution_count": 5,
   "id": "b5f2842b",
   "metadata": {},
   "outputs": [
    {
     "data": {
      "text/plain": [
       "3628800"
      ]
     },
     "execution_count": 5,
     "metadata": {},
     "output_type": "execute_result"
    }
   ],
   "source": [
    "fact(10)"
   ]
  },
  {
   "cell_type": "code",
   "execution_count": 7,
   "id": "af2c6aca",
   "metadata": {},
   "outputs": [
    {
     "name": "stdout",
     "output_type": "stream",
     "text": [
      "Please enter number136\n",
      "Please enter number160\n",
      "12\n"
     ]
    }
   ],
   "source": [
    "'''Create a recursive Python function to find the greatest common divisor (GCD) of two numbers using the Euclidean algorithm.\n",
    "'''\n",
    "num1 = int(input(\"Please enter number1\"))\n",
    "num2 = int(input(\"Please enter number1\"))\n",
    "\n",
    "def findGCD(num1,num2):\n",
    "    if num1 == 0 or num2 == 0:\n",
    "        return num1+num2\n",
    "    if num1 == num2:\n",
    "        return num1\n",
    "    if num1>num2:\n",
    "        return findGCD(num1-num2, num2)\n",
    "    else:\n",
    "        return findGCD(num1,num2-num1)\n",
    "print(findGCD(num1,num2))"
   ]
  },
  {
   "cell_type": "code",
   "execution_count": 12,
   "id": "a6dea4d4",
   "metadata": {},
   "outputs": [
    {
     "name": "stdout",
     "output_type": "stream",
     "text": [
      "Please enter stringtest\n",
      "tset\n"
     ]
    }
   ],
   "source": [
    "'''Write a recursive Python function to reverse a string.\n",
    "'''\n",
    "def revr_str(str1):\n",
    "    if len(str1) == 0:\n",
    "        return str1\n",
    "    else:\n",
    "        return revr_str(str1[1:]) + str1[0]\n",
    "str1 = input(\"Please enter string\")\n",
    "print(revr_str(str1))"
   ]
  },
  {
   "cell_type": "code",
   "execution_count": 14,
   "id": "13cb1969",
   "metadata": {},
   "outputs": [
    {
     "name": "stdout",
     "output_type": "stream",
     "text": [
      "25\n"
     ]
    }
   ],
   "source": [
    "'''Create a recursive Python function to calculate the power of a number (x^n).\n",
    "'''\n",
    "def pow_num(n,p):\n",
    "    if p == 0:\n",
    "        return 1\n",
    "    return (n* pow_num(n,p-1))\n",
    "\n",
    "print(pow_num(5,2))"
   ]
  },
  {
   "cell_type": "code",
   "execution_count": 18,
   "id": "d502d9b6",
   "metadata": {},
   "outputs": [
    {
     "name": "stdout",
     "output_type": "stream",
     "text": [
      "Please enter string test\n",
      "Is not polindrome\n"
     ]
    }
   ],
   "source": [
    "'''Write a recursive Python function to find all permutations of a given string.'''\n",
    "\n",
    "def is_polindrome(l,r,s):\n",
    "    if l>=r:\n",
    "        return True\n",
    "    if s[l] != s[r]:\n",
    "        return False\n",
    "    return is_polindrome(l+1, r-1, s)\n",
    "\n",
    "my_str = input(\"Please enter string \")\n",
    "\n",
    "l = 0\n",
    "r = len(my_str) - 1\n",
    "\n",
    "check = is_polindrome(l,r,my_str)\n",
    "\n",
    "if check:\n",
    "    print(\"Is polindrome\")\n",
    "else:\n",
    "    print(\"Is not polindrome\")\n",
    "            "
   ]
  },
  {
   "cell_type": "code",
   "execution_count": 21,
   "id": "626ba145",
   "metadata": {},
   "outputs": [
    {
     "name": "stdout",
     "output_type": "stream",
     "text": [
      "[[], [55], [45], [55, 45], [66], [55, 66], [45, 66], [55, 45, 66], [78], [55, 78], [45, 78], [55, 45, 78], [66, 78], [55, 66, 78], [45, 66, 78], [55, 45, 66, 78], [90], [55, 90], [45, 90], [55, 45, 90], [66, 90], [55, 66, 90], [45, 66, 90], [55, 45, 66, 90], [78, 90], [55, 78, 90], [45, 78, 90], [55, 45, 78, 90], [66, 78, 90], [55, 66, 78, 90], [45, 66, 78, 90], [55, 45, 66, 78, 90]]\n"
     ]
    }
   ],
   "source": [
    "'''Create a recursive Python function to generate all possible combinations of a list of elements.'''\n",
    "def generate_combination(num):\n",
    "    result = []\n",
    "    if not num:\n",
    "        return [[]]\n",
    "    for i in generate_combination(num[1:]):\n",
    "        result.append(i)\n",
    "        result.append([num[0]] + i)\n",
    "    return result\n",
    "\n",
    "test_list =[55,45,66,78,90]\n",
    "\n",
    "print(generate_combination(test_list))\n",
    "        "
   ]
  },
  {
   "cell_type": "code",
   "execution_count": 22,
   "id": "d7c085d2",
   "metadata": {},
   "outputs": [
    {
     "name": "stdout",
     "output_type": "stream",
     "text": [
      "test\n"
     ]
    }
   ],
   "source": [
    "'''How do you define a function in Python? Provide an example.'''\n",
    "\n",
    "'''function will be defined by def key word. def will be followed by a name follwed by paranthesis and colon.'''\n",
    "\n",
    "'''Example of function'''\n",
    "def new():\n",
    "    print(\"test\")\n",
    "    \n",
    "new()"
   ]
  },
  {
   "cell_type": "code",
   "execution_count": 23,
   "id": "af530e5a",
   "metadata": {},
   "outputs": [
    {
     "data": {
      "text/plain": [
       "'Function is a piece of code that performs functionality. It will enhance modularity and reusability of program.\\nFunction call is like invoking the call of function. Unless a function is called there is no use of function'"
      ]
     },
     "execution_count": 23,
     "metadata": {},
     "output_type": "execute_result"
    }
   ],
   "source": [
    "'''Explain the difference between a function definition and a function call.\n",
    "'''\n",
    "\n",
    "'''Function is a piece of code that performs functionality. It will enhance modularity and reusability of program.\n",
    "Function call is like invoking the call of function. Unless a function is called there is no use of function'''"
   ]
  },
  {
   "cell_type": "code",
   "execution_count": 24,
   "id": "fdcf3594",
   "metadata": {},
   "outputs": [
    {
     "name": "stdout",
     "output_type": "stream",
     "text": [
      "3\n"
     ]
    }
   ],
   "source": [
    "'''Write a Python program that defines a function to calculate the sum of two numbers and then calls the function.'''\n",
    "\n",
    "def sum_of_num(a,b):\n",
    "    res = a+b\n",
    "    return res\n",
    "\n",
    "print(sum_of_num(1,2))"
   ]
  },
  {
   "cell_type": "code",
   "execution_count": 25,
   "id": "f95b9c39",
   "metadata": {},
   "outputs": [
    {
     "data": {
      "text/plain": [
       "'function signature is like what type of inputs and annotations the function will take and what type of outputs the function will return'"
      ]
     },
     "execution_count": 25,
     "metadata": {},
     "output_type": "execute_result"
    }
   ],
   "source": [
    "'''What is a function signature, and what information does it typically include?\n",
    "'''\n",
    "\n",
    "'''function signature is like what type of inputs and annotations the function will take and what type of outputs the function will return'''"
   ]
  },
  {
   "cell_type": "code",
   "execution_count": 26,
   "id": "a0727163",
   "metadata": {},
   "outputs": [
    {
     "name": "stdout",
     "output_type": "stream",
     "text": [
      "2\n"
     ]
    }
   ],
   "source": [
    "'''Create a Python function that takes two arguments and returns their product.\n",
    "'''\n",
    "\n",
    "def product_of_num(a,b):\n",
    "    res = a * b\n",
    "    return res\n",
    "\n",
    "print(product_of_num(1,2))"
   ]
  },
  {
   "cell_type": "code",
   "execution_count": 29,
   "id": "113dd786",
   "metadata": {},
   "outputs": [
    {
     "data": {
      "text/plain": [
       "'Formal parameters are defined when the function is created and these paramters values are passed from outside the function\\nand when the function is called.\\nActual parameters are defined while you are calling the functions. while callling the function we should pass some values to function.\\nThis is called actual arguments'"
      ]
     },
     "execution_count": 29,
     "metadata": {},
     "output_type": "execute_result"
    }
   ],
   "source": [
    "'''Explain the concepts of formal parameters and actual arguments in Python functions.'''\n",
    "\n",
    "'''Formal parameters are defined when the function is created and these paramters values are passed from outside the function\n",
    "and when the function is called.\n",
    "Actual parameters are defined while you are calling the functions. while callling the function we should pass some values to function.\n",
    "This is called actual arguments'''"
   ]
  },
  {
   "cell_type": "code",
   "execution_count": 30,
   "id": "f409ddfc",
   "metadata": {},
   "outputs": [
    {
     "name": "stdout",
     "output_type": "stream",
     "text": [
      "hello world\n"
     ]
    }
   ],
   "source": [
    "'''Write a Python program that defines a function with default argument values.\n",
    "'''\n",
    "\n",
    "'''Default arugments are defined by default with function. These are taken when no values are passed externally from outside the function'''\n",
    "\n",
    "def greet(name = \"world\"):\n",
    "    print( \"hello\",name)\n",
    "greet()    \n"
   ]
  },
  {
   "cell_type": "code",
   "execution_count": 31,
   "id": "b2c425c5",
   "metadata": {
    "collapsed": true
   },
   "outputs": [
    {
     "name": "stdout",
     "output_type": "stream",
     "text": [
      "first name abc\n",
      "last name def\n"
     ]
    }
   ],
   "source": [
    "'''How do you use keyword arguments in Python function calls? Provide an example.'''\n",
    "\n",
    "'''Key word arguments are usually called by the name of the argument'''\n",
    "\n",
    "def get_names(first_name,last_name):\n",
    "    print(\"first name\", first_name)\n",
    "    print(\"last name\", last_name)\n",
    "\n",
    "get_names(first_name=\"abc\", last_name=\"def\")"
   ]
  },
  {
   "cell_type": "code",
   "execution_count": 32,
   "id": "4fe73b26",
   "metadata": {},
   "outputs": [
    {
     "name": "stdout",
     "output_type": "stream",
     "text": [
      "15\n"
     ]
    }
   ],
   "source": [
    "'''Create a Python function that accepts a variable number of arguments and calculates their sum.\n",
    "'''\n",
    "\n",
    "def sum(*args):\n",
    "    sum = 0\n",
    "    for item in args:\n",
    "        sum += item\n",
    "    return sum\n",
    "print(sum(1,2,3,4,5))"
   ]
  },
  {
   "cell_type": "code",
   "execution_count": 33,
   "id": "4a1e9d0f",
   "metadata": {},
   "outputs": [
    {
     "data": {
      "text/plain": [
       "'*args are varaible length of non keyword arguments. It is denoted by *. Instead of passing multiple arguments from function.\\nWe can pass multiple values with *args.\\n**kwargs are used to define multiple keword arguments. Keyword arguments are defined in dictionary. It is denoated by **.\\nMutliple keyword arguments are passed by **.'"
      ]
     },
     "execution_count": 33,
     "metadata": {},
     "output_type": "execute_result"
    }
   ],
   "source": [
    "'''What is the purpose of the `*args` and `**kwargs` syntax in function parameter lists?'''\n",
    "\n",
    "'''*args are varaible length of non keyword arguments. It is denoted by *. Instead of passing multiple arguments from function.\n",
    "We can pass multiple values with *args.\n",
    "**kwargs are used to define multiple keword arguments. Keyword arguments are defined in dictionary. It is denoated by **.\n",
    "Mutliple keyword arguments are passed by **.'''"
   ]
  },
  {
   "cell_type": "code",
   "execution_count": 37,
   "id": "520ea55d",
   "metadata": {},
   "outputs": [
    {
     "data": {
      "text/plain": [
       "'return is used to return a value and to return set of values.The return statement is used to pass data from function to another function.\\nThis function will prints data from fucntion'"
      ]
     },
     "execution_count": 37,
     "metadata": {},
     "output_type": "execute_result"
    }
   ],
   "source": [
    "'''Describe the role of the `return` statement in Python functions and provide examples.'''\n",
    "'''return is used to return a value and to return set of values.The return statement is used to pass data from function to another function.\n",
    "This function will prints data from fucntion'''"
   ]
  },
  {
   "cell_type": "code",
   "execution_count": 35,
   "id": "13930276",
   "metadata": {},
   "outputs": [
    {
     "data": {
      "text/plain": [
       "'varaible scope is the location where the varaibles are defined and to access it. Local varaibles are defined inside the function\\nand it can be uses inside the function only. Global variables are defined outside the function and can be accessed throughout\\nprogram.'"
      ]
     },
     "execution_count": 35,
     "metadata": {},
     "output_type": "execute_result"
    }
   ],
   "source": [
    "'''Explain the concept of variable scope in Python, including local and global variables.'''\n",
    "\n",
    "'''varaible scope is the location where the varaibles are defined and to access it. Local varaibles are defined inside the function\n",
    "and it can be uses inside the function only. Global variables are defined outside the function and can be accessed throughout\n",
    "program.'''"
   ]
  },
  {
   "cell_type": "code",
   "execution_count": 36,
   "id": "ae5c164c",
   "metadata": {},
   "outputs": [
    {
     "name": "stdout",
     "output_type": "stream",
     "text": [
      "2\n"
     ]
    }
   ],
   "source": [
    "'''Write a Python program that demonstrates the use of global variables within functions.'''\n",
    "\n",
    "c =1 #global variable\n",
    "\n",
    "def add():\n",
    "    c = 2\n",
    "    return c\n",
    "print(add())"
   ]
  },
  {
   "cell_type": "code",
   "execution_count": 42,
   "id": "64abec55",
   "metadata": {},
   "outputs": [
    {
     "name": "stdout",
     "output_type": "stream",
     "text": [
      "120\n"
     ]
    }
   ],
   "source": [
    "'''Create a Python function that calculates the factorial of a number and returns it.\n",
    "'''\n",
    "def fact(n):\n",
    "    res = 1\n",
    "    for item in range(1,n+1):\n",
    "        res *=item\n",
    "    return res\n",
    "print(fact(5))"
   ]
  },
  {
   "cell_type": "code",
   "execution_count": 43,
   "id": "7eecbdd2",
   "metadata": {},
   "outputs": [
    {
     "data": {
      "text/plain": [
       "'variables declared outside the function are called global variables. Varaibles defined in global scope can be used\\ninside the function.We can update values of global varaible inside the fucntion'"
      ]
     },
     "execution_count": 43,
     "metadata": {},
     "output_type": "execute_result"
    }
   ],
   "source": [
    "'''How can you access variables defined outside a function from within the function?\n",
    "'''\n",
    "\n",
    "'''variables declared outside the function are called global variables. Varaibles defined in global scope can be used\n",
    "inside the function.We can update values of global varaible inside the fucntion'''"
   ]
  },
  {
   "cell_type": "code",
   "execution_count": null,
   "id": "a1edf255",
   "metadata": {},
   "outputs": [],
   "source": [
    "'''\n",
    "What are lambda functions in Python, and when are they typically used?\n",
    "'''\n",
    "'''lambda functions are called as anonymous functions.These are fucntions defined without name. Lambda function is used\n",
    "to evaluate simple expressions.'''"
   ]
  },
  {
   "cell_type": "code",
   "execution_count": 52,
   "id": "41e9dc63",
   "metadata": {},
   "outputs": [
    {
     "name": "stdout",
     "output_type": "stream",
     "text": [
      "[('Social sciences', 82), ('English', 88), ('Science', 90), ('Maths', 97)]\n"
     ]
    }
   ],
   "source": [
    "'''Write a Python program that uses lambda functions to sort a list of tuples based on the second element.\n",
    "'''\n",
    "subject_marks = [('English', 88), ('Science', 90), ('Maths', 97), ('Social sciences', 82)]\n",
    "\n",
    "subject_marks.sort(key = lambda x:x[1])\n",
    "\n",
    "print(subject_marks)"
   ]
  },
  {
   "cell_type": "code",
   "execution_count": 51,
   "id": "4522df84",
   "metadata": {},
   "outputs": [
    {
     "name": "stdout",
     "output_type": "stream",
     "text": [
      "[4, 6, 8]\n",
      "[2, 4]\n"
     ]
    }
   ],
   "source": [
    "'''Explain the concept of higher-order functions in Python, and provide an example.\n",
    "'''\n",
    "'''Higher order functions will take function as parameter and returns functions as result. Examples of higher order\n",
    "functions are map(), filter() and reduce() from itertools'''\n",
    "\n",
    "list1=[2,3,4]\n",
    "\n",
    "result_list1 = list(map(lambda x:x*2, list1))\n",
    "\n",
    "print(result_list1)\n",
    "\n",
    "result_list2 = list(filter(lambda x:x%2 == 0, list1))\n",
    "\n",
    "print(result_list2)\n",
    "\n"
   ]
  },
  {
   "cell_type": "code",
   "execution_count": 53,
   "id": "58896160",
   "metadata": {},
   "outputs": [
    {
     "name": "stdout",
     "output_type": "stream",
     "text": [
      "9\n"
     ]
    }
   ],
   "source": [
    "import functools\n",
    "result_list3 = functools.reduce(lambda x,y:x+y, list1)\n",
    "\n",
    "print(result_list3)"
   ]
  },
  {
   "cell_type": "code",
   "execution_count": 54,
   "id": "9912406c",
   "metadata": {},
   "outputs": [
    {
     "data": {
      "text/plain": [
       "'len() is used to find out the number of elements in a object. It is basically used to find the number of elements in list.\\nmax() is used to find the maximum element in iterable like tuple, list.\\nmin() is used to find the minimum element in iterables.'"
      ]
     },
     "execution_count": 54,
     "metadata": {},
     "output_type": "execute_result"
    }
   ],
   "source": [
    "'''Describe the role of built-in functions like `len()`, `max()`, and `min()` in Python.'''\n",
    "\n",
    "'''len() is used to find out the number of elements in a object. It is basically used to find the number of elements in list.\n",
    "max() is used to find the maximum element in iterable like tuple, list.\n",
    "min() is used to find the minimum element in iterables.'''"
   ]
  },
  {
   "cell_type": "code",
   "execution_count": 55,
   "id": "d580bc3c",
   "metadata": {},
   "outputs": [
    {
     "name": "stdout",
     "output_type": "stream",
     "text": [
      "[4, 6, 8]\n"
     ]
    }
   ],
   "source": [
    "'''Write a Python program that uses the `map()` function to apply a function to each element of a list.\n",
    "'''\n",
    "list1=[2,3,4]\n",
    "\n",
    "result_list1 = list(map(lambda x:x*2, list1))\n",
    "\n",
    "print(result_list1)"
   ]
  },
  {
   "cell_type": "code",
   "execution_count": 56,
   "id": "b478f91d",
   "metadata": {},
   "outputs": [
    {
     "data": {
      "text/plain": [
       "'Filter function is a bulit in function used. It is used to filter list of elements based on specified condition.\\nFilter function will return the iterable which will satisfy the specifed condition.'"
      ]
     },
     "execution_count": 56,
     "metadata": {},
     "output_type": "execute_result"
    }
   ],
   "source": [
    "'''How does the `filter()` function work in Python, and when would you use it?\n",
    "'''\n",
    "'''Filter function is a bulit in function used. It is used to filter list of elements based on specified condition.\n",
    "Filter function will return the iterable which will satisfy the specifed condition.'''"
   ]
  },
  {
   "cell_type": "code",
   "execution_count": 57,
   "id": "ff08c5f6",
   "metadata": {},
   "outputs": [
    {
     "name": "stdout",
     "output_type": "stream",
     "text": [
      "24\n"
     ]
    }
   ],
   "source": [
    "'''Create a Python program that uses the `reduce()` function to find the product of all elements in a list.'''\n",
    "import functools\n",
    "\n",
    "list1=[1,2,3,4]\n",
    "result = functools.reduce(lambda x,y:x*y, list1)\n",
    "print(result)"
   ]
  },
  {
   "cell_type": "code",
   "execution_count": 58,
   "id": "1ce9ca5f",
   "metadata": {},
   "outputs": [
    {
     "data": {
      "text/plain": [
       "'Docstring is used to document the purpose of functions, modules, classes and methods.It is used in the source code that is \\nused as a comment to describe the specific segment of code. Doc string is used to specify triple single quotes and to \\nspecify triple double quotes '"
      ]
     },
     "execution_count": 58,
     "metadata": {},
     "output_type": "execute_result"
    }
   ],
   "source": [
    "'''Explain the purpose of docstrings in Python functions and how to write them.\n",
    "'''\n",
    "'''Docstring is used to document the purpose of functions, modules, classes and methods.It is used in the source code that is \n",
    "used as a comment to describe the specific segment of code. Doc string is used to specify triple single quotes and to \n",
    "specify triple double quotes '''"
   ]
  },
  {
   "cell_type": "code",
   "execution_count": 59,
   "id": "3ed0553a",
   "metadata": {},
   "outputs": [
    {
     "data": {
      "text/plain": [
       "'Naming conventions of varaibles should be in descriptive and should be in meaning ful names. It should follow consistent \\nnaming conventions like in camelcase, snakecase. Should not use reserver key words in variable names, function names.Should not\\nuse abbrevations inorder to avoid confusion. Instead declare in full form.Developer should be mindful of varaible scope to avoid\\nconfusions while accessing the variables.'"
      ]
     },
     "execution_count": 59,
     "metadata": {},
     "output_type": "execute_result"
    }
   ],
   "source": [
    "'''Describe some best practices for naming functions and variables in Python, including naming conventions and guidelines.'''\n",
    "\n",
    "'''Naming conventions of varaibles should be in descriptive and should be in meaning ful names. It should follow consistent \n",
    "naming conventions like in camelcase, snakecase. Should not use reserver key words in variable names, function names.Should not\n",
    "use abbrevations inorder to avoid confusion. Instead declare in full form.Developer should be mindful of varaible scope to avoid\n",
    "confusions while accessing the variables.'''"
   ]
  },
  {
   "cell_type": "code",
   "execution_count": 1,
   "id": "983c8cf6",
   "metadata": {},
   "outputs": [
    {
     "ename": "SyntaxError",
     "evalue": "invalid syntax (3779675380.py, line 2)",
     "output_type": "error",
     "traceback": [
      "\u001b[1;36m  Cell \u001b[1;32mIn[1], line 2\u001b[1;36m\u001b[0m\n\u001b[1;33m    Write a Python program to find the largest number in a list using a for loop.\u001b[0m\n\u001b[1;37m          ^\u001b[0m\n\u001b[1;31mSyntaxError\u001b[0m\u001b[1;31m:\u001b[0m invalid syntax\n"
     ]
    }
   ],
   "source": [
    "How can you iterate through the characters of a string using a for loop in Python?\n",
    "Write a Python program to find the largest number in a list using a for loop.\n",
    "Create a Python program that prints the Fibonacci sequence up to a specified limit using a for loop.\n"
   ]
  },
  {
   "cell_type": "code",
   "execution_count": 2,
   "id": "7588fd4b",
   "metadata": {},
   "outputs": [
    {
     "name": "stdout",
     "output_type": "stream",
     "text": [
      "n\n",
      "e\n",
      "w\n"
     ]
    }
   ],
   "source": [
    "'''8.How can you iterate through the characters of a string using a for loop in Python?'''\n",
    "\n",
    "str2= \"new\"\n",
    "for i in str2:\n",
    "    print(i)"
   ]
  },
  {
   "cell_type": "code",
   "execution_count": 3,
   "id": "8fbe5775",
   "metadata": {},
   "outputs": [
    {
     "name": "stdout",
     "output_type": "stream",
     "text": [
      "Greatest number 5\n"
     ]
    }
   ],
   "source": [
    "'''9.Write a Python program to find the largest number in a list using a for loop.'''\n",
    "list1= [2,3,4,1,5]\n",
    "max_num = list1[0]\n",
    "\n",
    "for item in list1:\n",
    "    if item>max_num:\n",
    "        max_num = item\n",
    "        \n",
    "print(\"Greatest number\", max_num)"
   ]
  },
  {
   "cell_type": "code",
   "execution_count": 12,
   "id": "0ae3b905",
   "metadata": {},
   "outputs": [
    {
     "name": "stdout",
     "output_type": "stream",
     "text": [
      "Please enter fibonacci limit 5\n",
      "0 1 1 2 3 "
     ]
    }
   ],
   "source": [
    "'''10.Create a Python program that prints the Fibonacci sequence up to a specified limit using a for loop.'''\n",
    "n = int(input(\"Please enter fibonacci limit \"))\n",
    "a = 0\n",
    "b = 1\n",
    "if n<=0:\n",
    "    print(\"output is\", a)\n",
    "else:\n",
    "    print(a,b,end=\" \")\n",
    "    for i in range(2, n):\n",
    "        c = a+b\n",
    "        print(c, end=\" \")\n",
    "        a = b\n",
    "        b = c\n",
    "        "
   ]
  },
  {
   "cell_type": "code",
   "execution_count": 17,
   "id": "114eabc2",
   "metadata": {},
   "outputs": [
    {
     "ename": "AssertionError",
     "evalue": "",
     "output_type": "error",
     "traceback": [
      "\u001b[1;31m---------------------------------------------------------------------------\u001b[0m",
      "\u001b[1;31mAssertionError\u001b[0m                            Traceback (most recent call last)",
      "Cell \u001b[1;32mIn[17], line 8\u001b[0m\n\u001b[0;32m      6\u001b[0m \u001b[38;5;124;03m'''Both conditions are true'''\u001b[39;00m\n\u001b[0;32m      7\u001b[0m \u001b[38;5;28;01massert\u001b[39;00m x \u001b[38;5;241m==\u001b[39m \u001b[38;5;124m\"\u001b[39m\u001b[38;5;124mHello\u001b[39m\u001b[38;5;124m\"\u001b[39m\n\u001b[1;32m----> 8\u001b[0m \u001b[38;5;28;01massert\u001b[39;00m x \u001b[38;5;241m==\u001b[39m \u001b[38;5;124m\"\u001b[39m\u001b[38;5;124mtest\u001b[39m\u001b[38;5;124m\"\u001b[39m\n",
      "\u001b[1;31mAssertionError\u001b[0m: "
     ]
    }
   ],
   "source": [
    "'''15.How do you use the \"assert\" statement in Python to add debugging checks within if-else blocks?\n",
    "'''\n",
    "x = \"Hello\"\n",
    "\n",
    "square_of_n = 2**2\n",
    "'''Both conditions are true'''\n",
    "assert x == \"Hello\"\n",
    "assert x == \"test\""
   ]
  },
  {
   "cell_type": "code",
   "execution_count": 20,
   "id": "86469d24",
   "metadata": {},
   "outputs": [
    {
     "name": "stdout",
     "output_type": "stream",
     "text": [
      "[1, 4, 9, 16]\n"
     ]
    }
   ],
   "source": [
    "'''4.Create a Python function that takes a list of numbers and a function as arguments, applying the function to each element in the list.'''\n",
    "\n",
    "def square(n):\n",
    "    return n*n\n",
    "\n",
    "list1= [1,2,3,4]\n",
    "\n",
    "result = list(map(square, list1))\n",
    "\n",
    "print(result)"
   ]
  },
  {
   "cell_type": "code",
   "execution_count": null,
   "id": "30203ab7",
   "metadata": {},
   "outputs": [],
   "source": []
  }
 ],
 "metadata": {
  "kernelspec": {
   "display_name": "Python 3 (ipykernel)",
   "language": "python",
   "name": "python3"
  },
  "language_info": {
   "codemirror_mode": {
    "name": "ipython",
    "version": 3
   },
   "file_extension": ".py",
   "mimetype": "text/x-python",
   "name": "python",
   "nbconvert_exporter": "python",
   "pygments_lexer": "ipython3",
   "version": "3.11.4"
  }
 },
 "nbformat": 4,
 "nbformat_minor": 5
}
