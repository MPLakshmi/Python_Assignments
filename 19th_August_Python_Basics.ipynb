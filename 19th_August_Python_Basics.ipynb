{
 "cells": [
  {
   "cell_type": "code",
   "execution_count": 19,
   "id": "84431896-ad3a-4048-b607-c4bba933136a",
   "metadata": {},
   "outputs": [
    {
     "name": "stdout",
     "output_type": "stream",
     "text": [
      "3\n",
      "2\n"
     ]
    }
   ],
   "source": [
    "'''Swap Variables on Python'''\n",
    "x=2\n",
    "y=3\n",
    "'''swap variables without temporary variable'''\n",
    "x,y =y,x\n",
    "print(x)\n",
    "print(y)"
   ]
  },
  {
   "cell_type": "code",
   "execution_count": 16,
   "id": "c2edd6cf",
   "metadata": {},
   "outputs": [
    {
     "name": "stdout",
     "output_type": "stream",
     "text": [
      "length of rectangle 2\n",
      "width of rectangle 3\n",
      "area of rectangle 6\n"
     ]
    }
   ],
   "source": [
    "'''calculate area of rectangle'''\n",
    "length=input(\"length of rectangle \")\n",
    "width=input(\"width of rectangle \")\n",
    "area_of_rectangle = int(length) * int(width)\n",
    "print(\"area of rectangle\",area_of_rectangle)"
   ]
  },
  {
   "cell_type": "code",
   "execution_count": 20,
   "id": "98107a32",
   "metadata": {},
   "outputs": [
    {
     "name": "stdout",
     "output_type": "stream",
     "text": [
      "Enter temperature in celsius 10\n",
      "Temperature in Farenhit 50.0\n"
     ]
    }
   ],
   "source": [
    "'''convert celsius to farenhit'''\n",
    "celsius_temperature=int(input(\"Enter temperature in celsius \"))\n",
    "farenhit_temperature=(1.8*celsius_temperature) + 32\n",
    "print(\"Temperature in Farenhit\",farenhit_temperature)"
   ]
  },
  {
   "cell_type": "code",
   "execution_count": 21,
   "id": "a3577862",
   "metadata": {},
   "outputs": [
    {
     "name": "stdout",
     "output_type": "stream",
     "text": [
      "Enter String test\n",
      "length of string 4\n"
     ]
    }
   ],
   "source": [
    "'''calculate length of string'''\n",
    "string1=input(\"Enter String \")\n",
    "len_string1=len(string1)\n",
    "print(\"length of string\",len_string1)"
   ]
  },
  {
   "cell_type": "code",
   "execution_count": 22,
   "id": "6871036b",
   "metadata": {},
   "outputs": [
    {
     "name": "stdout",
     "output_type": "stream",
     "text": [
      "Enter input Sentencenew len apple\n",
      "4\n"
     ]
    }
   ],
   "source": [
    "'''count number of vowels'''\n",
    "sentence=input(\"Enter input Sentence\")\n",
    "vowels_list=[\"a\",\"e\",\"i\",\"o\",\"u\"]\n",
    "vowel_count = 0\n",
    "for item in vowels_list:\n",
    "    vowel_count += sentence.count(item)\n",
    "print(vowel_count)"
   ]
  },
  {
   "cell_type": "code",
   "execution_count": 23,
   "id": "f8233a10",
   "metadata": {},
   "outputs": [
    {
     "name": "stdout",
     "output_type": "stream",
     "text": [
      "Enter String to Reverse list\n",
      "reverse of string tsil\n"
     ]
    }
   ],
   "source": [
    "'''Reverse String by slicing'''\n",
    "string_2=input(\"Enter String to Reverse \")\n",
    "reverse_string = string_2[::-1]\n",
    "print(\"reverse of string\", reverse_string)"
   ]
  },
  {
   "cell_type": "code",
   "execution_count": 25,
   "id": "9c4728cc",
   "metadata": {},
   "outputs": [
    {
     "name": "stdout",
     "output_type": "stream",
     "text": [
      "Enter strring1len\n",
      "Given String is not polindrome\n"
     ]
    }
   ],
   "source": [
    "'''polindrome number'''\n",
    "string_1= str(input(\"Enter strring1\"))\n",
    "pol_string= string_1[::-1]\n",
    "if string_1 == pol_string:\n",
    "    print(\"Given String is a polindrome\")\n",
    "else:\n",
    "    print(\"Given String is not polindrome\")"
   ]
  },
  {
   "cell_type": "code",
   "execution_count": 26,
   "id": "9210c449",
   "metadata": {},
   "outputs": [
    {
     "name": "stdout",
     "output_type": "stream",
     "text": [
      "Enter String to remove spacestest new string\n",
      "New String after removing spaces testnewstring\n"
     ]
    }
   ],
   "source": [
    "remove_spaces = str(input(\"Enter String to remove spaces\"))\n",
    "new_str = remove_spaces.replace(\" \",\"\")\n",
    "print(\"New String after removing spaces\", new_str)"
   ]
  },
  {
   "cell_type": "code",
   "execution_count": null,
   "id": "0890fc1d",
   "metadata": {},
   "outputs": [],
   "source": []
  },
  {
   "cell_type": "code",
   "execution_count": null,
   "id": "de3f9533",
   "metadata": {},
   "outputs": [],
   "source": []
  }
 ],
 "metadata": {
  "kernelspec": {
   "display_name": "Python 3 (ipykernel)",
   "language": "python",
   "name": "python3"
  },
  "language_info": {
   "codemirror_mode": {
    "name": "ipython",
    "version": 3
   },
   "file_extension": ".py",
   "mimetype": "text/x-python",
   "name": "python",
   "nbconvert_exporter": "python",
   "pygments_lexer": "ipython3",
   "version": "3.11.4"
  }
 },
 "nbformat": 4,
 "nbformat_minor": 5
}
