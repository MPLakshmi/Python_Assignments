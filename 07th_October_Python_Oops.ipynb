{
 "cells": [
  {
   "cell_type": "code",
   "execution_count": 2,
   "id": "87d74e17",
   "metadata": {},
   "outputs": [],
   "source": [
    "'''Problem 1: Bank Account Create a class representing a bank account with attributes like account number, account holder name,\n",
    "and balance. Implement methods to deposit and withdraw money from the account.'''\n",
    "class BankAccount:\n",
    "    def __init__(self,acc_number, acc_name, balance):\n",
    "        self.acc_number = acc_number\n",
    "        self.acc_name = acc_name\n",
    "        self.balance = balance\n",
    "    def deposit_to_account(self):\n",
    "        deposit_amount = float(input(\"please enter amount to deposit\"))\n",
    "        self.balance = deposit_amount + float(self.balance)\n",
    "        print(\"After deposit money\", self.balance)\n",
    "\n",
    "    def withdraw_amount(self):\n",
    "        withdraw_amount = float(input(\"please enter amount to withdraw\"))\n",
    "        if float(self.balance)> withdraw_amount:\n",
    "            self.balance = float(self.balance) - withdraw_amount\n",
    "        else:\n",
    "            self.balance = withdraw_amount - float(self.balance)\n",
    "        print(\"After withdraw money\", self.balance)\n",
    "      "
   ]
  },
  {
   "cell_type": "code",
   "execution_count": 3,
   "id": "7318f59a",
   "metadata": {},
   "outputs": [
    {
     "name": "stdout",
     "output_type": "stream",
     "text": [
      "please enter amount to deposit10000\n",
      "After deposit money 40000.0\n"
     ]
    }
   ],
   "source": [
    "acc_obj = BankAccount(\"123454\", \"abc\", \"30000\")\n",
    "acc_obj.deposit_to_account()"
   ]
  },
  {
   "cell_type": "code",
   "execution_count": 4,
   "id": "0071981c",
   "metadata": {},
   "outputs": [
    {
     "name": "stdout",
     "output_type": "stream",
     "text": [
      "please enter amount to withdraw500\n",
      "After withdraw money 29500.0\n"
     ]
    }
   ],
   "source": [
    "acc_obj = BankAccount(\"123454\", \"abc\", \"30000\")\n",
    "acc_obj.withdraw_amount()"
   ]
  },
  {
   "cell_type": "code",
   "execution_count": 5,
   "id": "91da3276",
   "metadata": {},
   "outputs": [],
   "source": [
    "'''\n",
    "Problem 2: Employee Management Create a class representing an employee with attributes like employee ID, name, and salary. \n",
    "Implement methods to calculate the yearly bonus and display employee details.'''\n",
    "\n",
    "class EmployeeManagment:\n",
    "    def __init__(self, employee_id, emp_name, emp_salary):\n",
    "        self.employee_id = employee_id\n",
    "        self.emp_name = emp_name\n",
    "        self.emp_salary = emp_salary\n",
    "    def calc_yearly_bonus(self):\n",
    "        bonus_percentage = input(\"please enter percentage of bonus\")\n",
    "        bonus_amount = (float(bonus_percentage) * float(self.emp_salary)) / 100.0\n",
    "        total_amount = bonus_amount + float(self.emp_salary)\n",
    "        print(\"Total bonus amount per yearly\", total_amount)\n",
    "    def emp_details(self):\n",
    "        print(\"employee name\", self.emp_name)\n",
    "        print(\"employee id\",self.employee_id)\n",
    "        print(\"employee salary\", self.emp_salary)\n",
    "        \n",
    "        "
   ]
  },
  {
   "cell_type": "code",
   "execution_count": 6,
   "id": "875c2c8d",
   "metadata": {},
   "outputs": [
    {
     "name": "stdout",
     "output_type": "stream",
     "text": [
      "please enter percentage of bonus10\n",
      "Total bonus amount per yearly 33000.0\n"
     ]
    }
   ],
   "source": [
    "employee_obj = EmployeeManagment(\"12345\", \"abncdde\", \"30000\")\n",
    "employee_obj.calc_yearly_bonus()"
   ]
  },
  {
   "cell_type": "code",
   "execution_count": 7,
   "id": "81b655a9",
   "metadata": {},
   "outputs": [
    {
     "name": "stdout",
     "output_type": "stream",
     "text": [
      "employee name abncdde\n",
      "employee id 12345\n",
      "employee salary 30000\n"
     ]
    }
   ],
   "source": [
    "employee_obj.emp_details()"
   ]
  },
  {
   "cell_type": "code",
   "execution_count": 7,
   "id": "4f39f03a",
   "metadata": {},
   "outputs": [],
   "source": [
    "'''\n",
    "Problem 3: Vehicle Rental Create a class representing a vehicle rental system. \n",
    "Implement methods to rent a vehicle, return a vehicle, and display available vehicles.'''\n",
    "\n",
    "class VehicalRentalSystem:\n",
    "    def __init__(self, vehicle_name, no_of_vehicles):\n",
    "        self.vehicle_name = vehicle_name\n",
    "        self.no_of_vehicles = no_of_vehicles\n",
    "        self.is_rented = False\n",
    "        self.rent_vehciles = None\n",
    "    def rent_vehicles(self):\n",
    "        self.rent_vehicles= input(\"Please enter no of vehicles to rent\")\n",
    "        if int(self.rent_vehicles) > int(self.no_of_vehicles):\n",
    "            self.no_of_vehicles = int(self.rent_vehicles) - int(self.no_of_vehicles)\n",
    "        else:\n",
    "            self.no_of_vehicles = int(self.no_of_vehicles) - int(self.rent_vehicles)\n",
    "        print(\"vehicle is rented\")\n",
    "        print(\"Remaining vehicle after rent\",  self.no_of_vehicles)\n",
    "        self.is_rented = True\n",
    "    def return_vehicle(self):\n",
    "        if self.is_rented:\n",
    "            return_vehicle = input(\"Please enter no of vehicles to return\")\n",
    "            if int(return_vehicle) <= int(self.rent_vehicles):\n",
    "                self.no_of_vehicles = self.no_of_vehicles + int(return_vehicle)\n",
    "                print(\"No of vehicles after returned\",self.no_of_vehicles)\n",
    "            else:\n",
    "                print(\"Please enter valid number of returned vehicles with rented vehicles\")\n",
    "        else:\n",
    "            print(\"Vehicle is not rented\")\n",
    "    def available_vehicles(self):\n",
    "        print(\"vehicle name\", self.vehicle_name)\n",
    "        print(\"No of Vehicles\", self.no_of_vehicles)\n",
    "    "
   ]
  },
  {
   "cell_type": "code",
   "execution_count": 8,
   "id": "f89e8bc3",
   "metadata": {},
   "outputs": [
    {
     "name": "stdout",
     "output_type": "stream",
     "text": [
      "vehicle name maruthi\n",
      "No of Vehicles 40\n"
     ]
    }
   ],
   "source": [
    "rental_obj = VehicalRentalSystem(\"maruthi\", 40)\n",
    "rental_obj.available_vehicles()\n"
   ]
  },
  {
   "cell_type": "code",
   "execution_count": 9,
   "id": "ef03fdc7",
   "metadata": {},
   "outputs": [
    {
     "name": "stdout",
     "output_type": "stream",
     "text": [
      "Please enter no of vehicles to rent10\n",
      "vehicle is rented\n",
      "Remaining vehicle after rent 30\n",
      "Please enter no of vehicles to return10\n",
      "No of vehicles after returned 40\n",
      "vehicle name maruthi\n",
      "No of Vehicles 40\n"
     ]
    }
   ],
   "source": [
    "rental_obj.rent_vehicles()\n",
    "rental_obj.return_vehicle()\n",
    "rental_obj.available_vehicles()\n"
   ]
  },
  {
   "cell_type": "code",
   "execution_count": 4,
   "id": "de0c7875",
   "metadata": {},
   "outputs": [
    {
     "name": "stdout",
     "output_type": "stream",
     "text": [
      "Vehicle is not rented\n",
      "vehicle name swift\n",
      "No of Vehicles 40\n"
     ]
    }
   ],
   "source": [
    "rental_obj1 = VehicalRentalSystem(\"swift\", 40)\n",
    "rental_obj1.return_vehicle()\n",
    "rental_obj1.available_vehicles()"
   ]
  },
  {
   "cell_type": "code",
   "execution_count": 10,
   "id": "b7db78f5",
   "metadata": {},
   "outputs": [],
   "source": [
    "\n",
    "'''Problem 4: Library Catalog Create classes representing a library and a book. Implement methods to add books to the library, borrow books, and display available books.'''\n",
    "\n",
    "class library:\n",
    "    def __init__(self):\n",
    "        self.no_of_books_available = int(input(\"Pleast enter total no of books\"))\n",
    "class Book(library):\n",
    "    def __int__(self):\n",
    "        pass\n",
    "    def add_books(self):\n",
    "        add_books = int(input(\"Pleast enter no of books to add\"))\n",
    "        self.no_of_books_available  = self.no_of_books_available + add_books\n",
    "        print(\"Total number of books\",  self.no_of_books_available)\n",
    "    def borrow_books(self):\n",
    "        borrow_books = int(input(\"Pleast enter no of books to borrow\"))\n",
    "        if borrow_books < self.no_of_books_available:\n",
    "            self.no_of_books_available = self.no_of_books_available - borrow_books\n",
    "        print(\"Remaining books after borrowing\",self.no_of_books_available)\n",
    "    def display_details(self):\n",
    "        print(\"number of books in library\", self.no_of_books_available)\n",
    "        "
   ]
  },
  {
   "cell_type": "code",
   "execution_count": 23,
   "id": "c9f2f653",
   "metadata": {},
   "outputs": [
    {
     "name": "stdout",
     "output_type": "stream",
     "text": [
      "Pleast enter total no of books10\n",
      "number of books in library 10\n",
      "Pleast enter no of books to add10\n",
      "Total number of books 20\n",
      "Pleast enter no of books to borrow3\n",
      "Remaining books after borrowing 17\n",
      "number of books in library 17\n"
     ]
    }
   ],
   "source": [
    "book_obj = Book()\n",
    "book_obj.display_details()\n",
    "book_obj.add_books()\n",
    "book_obj.borrow_books()\n",
    "book_obj.display_details()"
   ]
  },
  {
   "cell_type": "code",
   "execution_count": 3,
   "id": "4e574c79",
   "metadata": {},
   "outputs": [],
   "source": [
    "'''\n",
    "Problem 5: Product Inventory Create classes representing a product and an inventory system. \n",
    "Implement methods to add products to the inventory, update product quantity, and display available products.'''\n",
    "\n",
    "class invProd:\n",
    "    def __init__(self):\n",
    "        self.no_of_products = int(input(\"Pleast enter total no of products\"))\n",
    "        self.add_products = None\n",
    "class Prod(invProd):\n",
    "    def __int__(self):\n",
    "        pass\n",
    "    def add_product(self):\n",
    "        self.add_products  = int(input(\"Pleast enter no of products to add\"))\n",
    "    def update_quantity(self):\n",
    "        self.no_of_products =  self.no_of_products + self.add_products\n",
    "    def display_details(self):\n",
    "        print(\"Number of products\",self.no_of_products)\n",
    "    "
   ]
  },
  {
   "cell_type": "code",
   "execution_count": 4,
   "id": "bd4ccf4b",
   "metadata": {},
   "outputs": [
    {
     "name": "stdout",
     "output_type": "stream",
     "text": [
      "Pleast enter total no of products30\n",
      "Number of products 30\n",
      "Pleast enter no of products to add10\n",
      "Number of products 40\n"
     ]
    }
   ],
   "source": [
    "prod_obj = Prod()\n",
    "prod_obj.display_details()\n",
    "prod_obj.add_product()\n",
    "prod_obj.update_quantity()\n",
    "prod_obj.display_details()\n"
   ]
  },
  {
   "cell_type": "code",
   "execution_count": 4,
   "id": "340c60a3",
   "metadata": {},
   "outputs": [],
   "source": [
    "'''Problem 6: Shape Calculation Create a class representing a shape with attributes like length, width, and height. \n",
    "Implement methods to calculate the area and perimeter of the shape.'''\n",
    "\n",
    "class shape:\n",
    "    def __init__(self):\n",
    "        self.length = int(input(\"Please enter length\"))\n",
    "        self.width = int(input(\"Please enter width\"))\n",
    "        self.height = int(input(\"Please enter height\"))\n",
    "    def area_of_shape(self):\n",
    "        '''area of rectangle'''\n",
    "        area = self.length * self.width\n",
    "        return area\n",
    "    def perimeter_of_shape(self):\n",
    "        '''permieter of rectangle'''\n",
    "        permeter = 2 * self.length + 2 * self.width\n",
    "        return permeter"
   ]
  },
  {
   "cell_type": "code",
   "execution_count": 5,
   "id": "3d7275d5",
   "metadata": {},
   "outputs": [
    {
     "name": "stdout",
     "output_type": "stream",
     "text": [
      "Please enter length2\n",
      "Please enter width3\n",
      "Please enter height1\n"
     ]
    },
    {
     "data": {
      "text/plain": [
       "6"
      ]
     },
     "execution_count": 5,
     "metadata": {},
     "output_type": "execute_result"
    }
   ],
   "source": [
    "shape_obj = shape()\n",
    "shape_obj.area_of_shape()"
   ]
  },
  {
   "cell_type": "code",
   "execution_count": 6,
   "id": "00dc3301",
   "metadata": {},
   "outputs": [
    {
     "data": {
      "text/plain": [
       "10"
      ]
     },
     "execution_count": 6,
     "metadata": {},
     "output_type": "execute_result"
    }
   ],
   "source": [
    "shape_obj.perimeter_of_shape()"
   ]
  },
  {
   "cell_type": "code",
   "execution_count": 28,
   "id": "63567863",
   "metadata": {},
   "outputs": [],
   "source": [
    "'''Problem 7: Student Management Create a class representing a student with attributes like student ID, name, and grades. \n",
    "Implement methods to calculate the average grade and display student details.\n",
    "'''\n",
    "class studentManagement:\n",
    "    def __int__(self):\n",
    "        self.student_id = None\n",
    "        self.student_name = None\n",
    "        self.grade= None\n",
    "    def student_details(self):\n",
    "        self.student_id = input(\"Please enter student id\")\n",
    "        self.student_name = input(\"please enter student name\")\n",
    "        print(\"student id\",self.student_id)\n",
    "        print(\"student name\",self.student_name)\n",
    "        if self.grade:\n",
    "            print(\"average grade\", self.grade)\n",
    "    def calc_grade(self):\n",
    "        no_of_subjects = int(input(\"Please enter no of subjects\"))\n",
    "        sum_of_subj = 0\n",
    "        for i in range(0,no_of_subjects):\n",
    "            marks = float(input(\"please enter marks\"))\n",
    "            sum_of_subj += marks\n",
    "        average_marks = sum_of_subj / no_of_subjects\n",
    "        if average_marks > 90:\n",
    "            self.grade = 'A'\n",
    "        elif average_marks > 80:\n",
    "            self.grade = 'B'\n",
    "        elif average_marks > 80:\n",
    "            self.grade = 'C'\n",
    "        else:\n",
    "            self.grade = 'D'\n",
    "        print(\"average of marks\", self.grade)"
   ]
  },
  {
   "cell_type": "code",
   "execution_count": 29,
   "id": "f1e9c9c0",
   "metadata": {},
   "outputs": [
    {
     "name": "stdout",
     "output_type": "stream",
     "text": [
      "Please enter no of subjects3\n",
      "please enter marks20\n",
      "please enter marks10\n",
      "please enter marks10\n",
      "average of marks D\n",
      "Please enter student id123abc\n",
      "please enter student nametest\n",
      "student id 123abc\n",
      "student name test\n",
      "average grade D\n"
     ]
    }
   ],
   "source": [
    "student_obj = studentManagement()\n",
    "\n",
    "student_obj.calc_grade()\n",
    "student_obj.student_details()\n"
   ]
  },
  {
   "cell_type": "code",
   "execution_count": null,
   "id": "69b2d3dc",
   "metadata": {},
   "outputs": [],
   "source": [
    "'''Problem 8: Email Management Create a class representing an email with attributes like sender, recipient, and subject. \n",
    "Implement methods to send an email and display email details.'''\n",
    "\n",
    "class emailManagement:\n",
    "    def __int__(self):\n",
    "        self.sender = None\n",
    "        self.recipient = None\n",
    "        self.subject = None\n",
    "    def send_email(self):\n",
    "        self.sender = input(\"Please enter sender details\")\n",
    "        self.recipient = input(\"Please enter resipient details\")\n",
    "        self.subject = input(\"Please enter email subject\")\n",
    "        print(\"email has been sent\")\n",
    "    def display_email_details(self):\n",
    "        print(\"email details\", self.sender,self.recipient,self.subject)"
   ]
  },
  {
   "cell_type": "code",
   "execution_count": 44,
   "id": "2ca86cf6",
   "metadata": {},
   "outputs": [
    {
     "name": "stdout",
     "output_type": "stream",
     "text": [
      "Please enter sender detailstest\n",
      "Please enter resipient detailstest\n",
      "Please enter email subjecttest\n",
      "email has been sent\n",
      "email details test test test\n"
     ]
    }
   ],
   "source": [
    "email_obj = emailManagement()\n",
    "email_obj.send_email()\n",
    "email_obj.display_email_details()"
   ]
  },
  {
   "cell_type": "code",
   "execution_count": 10,
   "id": "22964da2",
   "metadata": {},
   "outputs": [],
   "source": [
    "'''\n",
    "Problem 9: Social Media Profile Create a class representing a social media profile with attributes like username and posts. \n",
    "Implement methods to add posts, display posts, and search for posts by keyword.'''\n",
    "\n",
    "class SocialMedia:\n",
    "    def __int__(self):\n",
    "        print(\"inside ******\")\n",
    "        self.username = None\n",
    "        self.posts = None\n",
    "    def add_posts(self):\n",
    "        self.username= input(\"please enter username\")\n",
    "        no_of_posts = int(input(\"Please enter no of posts to add\"))\n",
    "        new_list = []\n",
    "        for i in range(no_of_posts):\n",
    "            new_post = input(\"Please enter post to add\")\n",
    "            new_list.append(new_post)\n",
    "        self.posts = new_list\n",
    "    def display_post(self):\n",
    "        print(\"username details\", self.username)\n",
    "        print(\"all posts are\", self.posts)\n",
    "    def search_posts(self):\n",
    "        search_post = input(\"Please enter post to search\")\n",
    "        if search_post in self.posts:\n",
    "            print(\"given post found\")\n",
    "            print(search_post)\n",
    "        else:\n",
    "            print(\"given post not found\")"
   ]
  },
  {
   "cell_type": "code",
   "execution_count": 13,
   "id": "55f0f374",
   "metadata": {},
   "outputs": [
    {
     "name": "stdout",
     "output_type": "stream",
     "text": [
      "please enter usernameabc\n",
      "Please enter no of posts to add2\n",
      "Please enter post to addtest1\n",
      "Please enter post to addtest\n",
      "username details abc\n",
      "all posts are ['test1', 'test']\n",
      "Please enter post to searchnew\n",
      "given post not found\n"
     ]
    }
   ],
   "source": [
    "media1 = SocialMedia()\n",
    "media1.add_posts()\n",
    "media1.display_post()\n",
    "media1.search_posts()"
   ]
  },
  {
   "cell_type": "code",
   "execution_count": 11,
   "id": "d6edada8",
   "metadata": {},
   "outputs": [],
   "source": [
    "'''Problem 10: ToDo List Create a class representing a ToDo list with attributes like tasks and due dates. \n",
    "Implement methods to add tasks, mark tasks as completed, and display pending tasks.'''\n",
    "class todoList:\n",
    "    def __int__(self):\n",
    "        self.tasks = None\n",
    "        self.due_dates = None\n",
    "        self.completed = None\n",
    "        \n",
    "        \n",
    "    def add_tasks(self):\n",
    "        tasks = {}\n",
    "        new_list = []\n",
    "        no_of_tasks = int(input(\"Please enter no of tasks\"))\n",
    "        for i in range(no_of_tasks):\n",
    "            new_task = input(\"Please enter task\")\n",
    "            due_date =  input(\"please enter due date\")\n",
    "            tasks.update({new_task:due_date})\n",
    "            print(\"@@@2tasks\",tasks)\n",
    "        new_list.append(tasks)\n",
    "        self.tasks = new_list\n",
    "        print(self.tasks)\n",
    "    def mark_tasks(self):\n",
    "        completed_tasks = {}\n",
    "        self.completed = input(\"Please enter completed task\")\n",
    "        task_list = self.tasks\n",
    "        for item in self.tasks:\n",
    "            if self.completed in item:\n",
    "                completed_tasks.update({self.completed:item[self.completed]})\n",
    "        print(\"completed tasks are\",completed_tasks)\n",
    "    def pending_tasks(self):\n",
    "        print(self.completed)\n",
    "        for item in self.tasks:\n",
    "            if self.completed in item:\n",
    "                del item[self.completed]\n",
    "                print(\"pending tasks are\", item)\n",
    "        "
   ]
  },
  {
   "cell_type": "code",
   "execution_count": 12,
   "id": "9aaa0d67",
   "metadata": {},
   "outputs": [
    {
     "name": "stdout",
     "output_type": "stream",
     "text": [
      "Please enter no of tasks2\n",
      "Please enter tasktest1\n",
      "please enter due date11-10\n",
      "@@@2tasks {'test1': '11-10'}\n",
      "Please enter tasktest2\n",
      "please enter due date10-11\n",
      "@@@2tasks {'test1': '11-10', 'test2': '10-11'}\n",
      "[{'test1': '11-10', 'test2': '10-11'}]\n",
      "Please enter completed tasktest1\n",
      "completed tasks are {'test1': '11-10'}\n",
      "test1\n",
      "pending tasks are {'test2': '10-11'}\n"
     ]
    }
   ],
   "source": [
    "list_obj = todoList()\n",
    "list_obj.add_tasks()\n",
    "list_obj.mark_tasks()\n",
    "list_obj.pending_tasks()\n"
   ]
  },
  {
   "cell_type": "markdown",
   "id": "0f093371",
   "metadata": {},
   "source": []
  },
  {
   "cell_type": "code",
   "execution_count": null,
   "id": "286e474e",
   "metadata": {},
   "outputs": [],
   "source": []
  }
 ],
 "metadata": {
  "kernelspec": {
   "display_name": "Python 3 (ipykernel)",
   "language": "python",
   "name": "python3"
  },
  "language_info": {
   "codemirror_mode": {
    "name": "ipython",
    "version": 3
   },
   "file_extension": ".py",
   "mimetype": "text/x-python",
   "name": "python",
   "nbconvert_exporter": "python",
   "pygments_lexer": "ipython3",
   "version": "3.11.4"
  }
 },
 "nbformat": 4,
 "nbformat_minor": 5
}
